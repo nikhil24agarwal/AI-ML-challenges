{
  "nbformat": 4,
  "nbformat_minor": 0,
  "metadata": {
    "colab": {
      "name": "Task_1_feature_elimination.ipynb",
      "provenance": [],
      "collapsed_sections": []
    },
    "kernelspec": {
      "name": "python3",
      "display_name": "Python 3"
    }
  },
  "cells": [
    {
      "cell_type": "markdown",
      "metadata": {
        "id": "9kUDLNT12F1-",
        "colab_type": "text"
      },
      "source": [
        "# Task 1: Feature Selection Schemes\n",
        "\n",
        "In this assignment you will understand Feature selection techniques\n",
        "\n",
        "###Forward Selection: \n",
        "Forward selection is an iterative method in which we start with having no feature in the model. In each iteration, we keep adding the feature which best improves our model till an addition of a new variable does not improve the performance of the model.\n",
        "\n",
        "###Backward Elimination: \n",
        "In backward elimination, we start with all the features and removes the least significant feature at each iteration which improves the performance of the model. We repeat this until no improvement is observed on removal of features.\n",
        "\n",
        "###Recursive Feature elimination: \n",
        "It is a greedy optimization algorithm which aims to find the best performing feature subset. It repeatedly creates models and keeps aside the best or the worst performing feature at each iteration. It constructs the next model with the left features until all the features are exhausted. It then ranks the features based on the order of their elimination."
      ]
    },
    {
      "cell_type": "markdown",
      "metadata": {
        "id": "3SgypcY36EZX",
        "colab_type": "text"
      },
      "source": [
        "##Dataset\n",
        "The dataset is available at \"data/bank-full.csv\" in the respective challenge's repo.\n",
        "The dataset can be obtained from:\n",
        "https://www.kaggle.com/sonujha090/bank-marketing\n",
        "\n",
        "#Features (X)\n",
        "##Input variables:\n",
        "# bank client data:\n",
        "1. age (numeric)\n",
        "2. job : type of job (categorical: 'admin.','blue-collar','entrepreneur','housemaid','management','retired','self-employed','services','student','technician','unemployed','unknown')\n",
        "3. marital : marital status (categorical: 'divorced','married','single','unknown'; note: 'divorced' means divorced or widowed)\n",
        "4. education (categorical: 'basic.4y','basic.6y','basic.9y','high.school','illiterate','professional.course','university.degree','unknown')\n",
        "5. default: has credit in default? (categorical: 'no','yes','unknown')\n",
        "6. housing: has housing loan? (categorical: 'no','yes','unknown')\n",
        "7. loan: has personal loan? (categorical: 'no','yes','unknown')\n",
        "# related with the last contact of the current campaign:\n",
        "8. contact: contact communication type (categorical: 'cellular','telephone')\n",
        "9. month: last contact month of year (categorical: 'jan', 'feb', 'mar', ..., 'nov', 'dec')\n",
        "10. day_of_week: last contact day of the week (categorical: 'mon','tue','wed','thu','fri')\n",
        "11. duration: last contact duration, in seconds (numeric). Important note: this attribute highly affects the output target (e.g., if duration=0 then y='no'). Yet, the duration is not known before a call is performed. Also, after the end of the call y is obviously known. Thus, this input should only be included for benchmark purposes and should be discarded if the intention is to have a realistic predictive model.\n",
        "# other attributes:\n",
        "12. campaign: number of contacts performed during this campaign and for this client (numeric, includes last contact)\n",
        "13. pdays: number of days that passed by after the client was last contacted from a previous campaign (numeric; 999 means client was not previously contacted)\n",
        "14. previous: number of contacts performed before this campaign and for this client (numeric)\n",
        "15. poutcome: outcome of the previous marketing campaign (categorical: 'failure','nonexistent','success')\n",
        "# social and economic context attributes\n",
        "16. emp.var.rate: employment variation rate. quarterly indicator (numeric)\n",
        "17. cons.price.idx: consumer price index. monthly indicator (numeric)\n",
        "18. cons.conf.idx: consumer confidence index. monthly indicator (numeric)\n",
        "19. euribor3m: euribor 3 month rate. daily indicator (numeric)\n",
        "20. nr.employed: number of employees. quarterly indicator (numeric)\n",
        "\n",
        "##Output variable (desired target):\n",
        "21. y. has the client subscribed a term deposit? (binary: 'yes','no')"
      ]
    },
    {
      "cell_type": "markdown",
      "metadata": {
        "id": "IcV8L0Q_7AgD",
        "colab_type": "text"
      },
      "source": [
        "#### Objective\n",
        "- To apply different feature selection approaches such as Forward Selection, Backward Elimination and recursive feature elimination for feature selection in Logistic Regression Algorithm.\n",
        "\n",
        "\n",
        "#### Tasks\n",
        "- Download and load the data (csv file)\n",
        "- Process the data \n",
        "- Split the dataset into 70% for training and rest 30% for testing (sklearn.model_selection.train_test_split function)\n",
        "- Train Logistic Regression\n",
        "- Apply feature selection techniques\n",
        "- Train the models on the feature reduced datasets\n",
        "- Compare their accuracies and print feature subset\n",
        "\n",
        "#### Further Fun\n",
        "- Perform feature selection with other schemes in the Sklearn: https://scikit-learn.org/stable/modules/classes.html#module-sklearn.feature_selection|\n",
        "\n",
        "#### Helpful links\n",
        "- pd.get_dummies() and One Hot Encoding: https://queirozf.com/entries/one-hot-encoding-a-feature-on-a-pandas-dataframe-an-example\n",
        "- Feature Scaling: https://scikit-learn.org/stable/modules/preprocessing.html\n",
        "- Train-test splitting: https://scikit-learn.org/stable/modules/generated/sklearn.model_selection.train_test_split.html\n",
        "- Feature selection in ML: https://machinelearningmastery.com/feature-selection-machine-learning-python/\n",
        "- Feature selection in sklearn: https://scikit-learn.org/stable/modules/feature_selection.html\n",
        "- Use slack for doubts: https://join.slack.com/t/deepconnectai/shared_invite/zt-givlfnf6-~cn3SQ43k0BGDrG9_YOn4g\n",
        "\n",
        "\n"
      ]
    },
    {
      "cell_type": "code",
      "metadata": {
        "id": "tipydTZB12oN",
        "colab_type": "code",
        "colab": {}
      },
      "source": [
        "import seaborn as sns\n",
        "import pandas as pd\n",
        "import numpy as np\n",
        "import matplotlib.pyplot as plt\n",
        "import scipy.stats\n",
        "from sklearn import preprocessing"
      ],
      "execution_count": null,
      "outputs": []
    },
    {
      "cell_type": "code",
      "metadata": {
        "id": "y_FW91Aa8v6L",
        "colab_type": "code",
        "colab": {}
      },
      "source": [
        "banking =  pd.read_csv(?)"
      ],
      "execution_count": null,
      "outputs": []
    },
    {
      "cell_type": "code",
      "metadata": {
        "id": "x6v0PXkZ9WLz",
        "colab_type": "code",
        "colab": {}
      },
      "source": [
        "banking.columns"
      ],
      "execution_count": null,
      "outputs": []
    },
    {
      "cell_type": "code",
      "metadata": {
        "id": "0MJVXOUP9ZGo",
        "colab_type": "code",
        "colab": {}
      },
      "source": [
        "banking.dtypes"
      ],
      "execution_count": null,
      "outputs": []
    },
    {
      "cell_type": "code",
      "metadata": {
        "id": "b5OISHp99aY8",
        "colab_type": "code",
        "colab": {}
      },
      "source": [
        "banking.head(6)"
      ],
      "execution_count": null,
      "outputs": []
    },
    {
      "cell_type": "code",
      "metadata": {
        "id": "tWsbP6GI9fK_",
        "colab_type": "code",
        "colab": {}
      },
      "source": [
        "banking.describe()"
      ],
      "execution_count": null,
      "outputs": []
    },
    {
      "cell_type": "code",
      "metadata": {
        "id": "bGuP-XILy28y",
        "colab_type": "code",
        "colab": {}
      },
      "source": [
        "banking.shape"
      ],
      "execution_count": null,
      "outputs": []
    },
    {
      "cell_type": "code",
      "metadata": {
        "id": "_n_uuKXCCJXQ",
        "colab_type": "code",
        "colab": {}
      },
      "source": [
        "banking.rename(columns={\"y\":\"Action\"},inplace = True)"
      ],
      "execution_count": null,
      "outputs": []
    },
    {
      "cell_type": "code",
      "metadata": {
        "id": "BwS_x_qA_OQr",
        "colab_type": "code",
        "colab": {}
      },
      "source": [
        "#banking.Action.value_counts()"
      ],
      "execution_count": null,
      "outputs": []
    },
    {
      "cell_type": "code",
      "metadata": {
        "id": "RtgLuxd7Cs18",
        "colab_type": "code",
        "colab": {}
      },
      "source": [
        "sns.heatmap(banking.isnull(),yticklabels = False, cbar = False , cmap ='RdYlGn')"
      ],
      "execution_count": null,
      "outputs": []
    },
    {
      "cell_type": "code",
      "metadata": {
        "id": "-Yl6YjlXz-I-",
        "colab_type": "code",
        "colab": {}
      },
      "source": [
        "new_data =  banking.select_dtypes(include='object')"
      ],
      "execution_count": null,
      "outputs": []
    },
    {
      "cell_type": "code",
      "metadata": {
        "id": "8bqsIpGZzjYa",
        "colab_type": "code",
        "colab": {}
      },
      "source": [
        "#checking the number of uique categories in each column\n",
        "for i in new_data.columns:\n",
        "  print(i,';',?,'labels')"
      ],
      "execution_count": null,
      "outputs": []
    },
    {
      "cell_type": "code",
      "metadata": {
        "id": "W5l9AQTTFx8Z",
        "colab_type": "code",
        "colab": {}
      },
      "source": [
        "from sklearn.preprocessing import LabelEncoder\n",
        "lb = LabelEncoder()\n",
        "new_data_encoded = new_data.apply(lb.fit_transform)\n",
        "new_data_nonobject = banking.select_dtypes(exclude = [\"object\"])\n",
        "banking1 = pd.concat([new_data_nonobject,new_data_encoded], axis = 1)"
      ],
      "execution_count": null,
      "outputs": []
    },
    {
      "cell_type": "code",
      "metadata": {
        "id": "nl6MensF1dBg",
        "colab_type": "code",
        "colab": {}
      },
      "source": [
        "banking1.head()"
      ],
      "execution_count": null,
      "outputs": []
    },
    {
      "cell_type": "code",
      "metadata": {
        "id": "RSeDV4ef2CQn",
        "colab_type": "code",
        "colab": {}
      },
      "source": [
        "banking1.shape"
      ],
      "execution_count": null,
      "outputs": []
    },
    {
      "cell_type": "markdown",
      "metadata": {
        "id": "miZtPmYhN90h",
        "colab_type": "text"
      },
      "source": [
        "# K Best Features"
      ]
    },
    {
      "cell_type": "code",
      "metadata": {
        "id": "0LjUnDEoDRt_",
        "colab_type": "code",
        "colab": {}
      },
      "source": [
        "from sklearn.feature_selection import SelectKBest\n",
        "from scipy.stats import chi2 \n",
        "from sklearn.feature_selection import f_classif"
      ],
      "execution_count": null,
      "outputs": []
    },
    {
      "cell_type": "code",
      "metadata": {
        "id": "rJqFg5EgE0rn",
        "colab_type": "code",
        "colab": {}
      },
      "source": [
        "X = banking.iloc[:,0:16]\n",
        "y = banking['Result_encoded']"
      ],
      "execution_count": null,
      "outputs": []
    },
    {
      "cell_type": "code",
      "metadata": {
        "id": "vlWArWIkTnH9",
        "colab_type": "code",
        "colab": {}
      },
      "source": [
        "X.shape"
      ],
      "execution_count": null,
      "outputs": []
    },
    {
      "cell_type": "code",
      "metadata": {
        "id": "KPOTMWCOEU9l",
        "colab_type": "code",
        "colab": {}
      },
      "source": [
        "Kbest = SelectKBest(?, ?)\n",
        "kfit = Kbest.fit(?,?)"
      ],
      "execution_count": null,
      "outputs": []
    },
    {
      "cell_type": "code",
      "metadata": {
        "id": "-x8IYkezEvWJ",
        "colab_type": "code",
        "colab": {}
      },
      "source": [
        "scores = pd.DataFrame(?)\n",
        "columns = pd.DataFrame(?)"
      ],
      "execution_count": null,
      "outputs": []
    },
    {
      "cell_type": "code",
      "metadata": {
        "id": "sEw4HMoDTjYs",
        "colab_type": "code",
        "colab": {}
      },
      "source": [
        "# Train logistic regression model with subset of features from K Best"
      ],
      "execution_count": null,
      "outputs": []
    },
    {
      "cell_type": "code",
      "metadata": {
        "id": "GYyvj3qYNQo1",
        "colab_type": "code",
        "colab": {}
      },
      "source": [
        ""
      ],
      "execution_count": null,
      "outputs": []
    },
    {
      "cell_type": "code",
      "metadata": {
        "id": "a7DaPOqIckol",
        "colab_type": "code",
        "colab": {}
      },
      "source": [
        "from sklearn.linear_model import LogisticRegression,SGDClassifier, RidgeClassifier\n",
        "from sklearn.tree import DecisionTreeClassifier\n",
        "from sklearn.feature_selection import RFE\n",
        "from sklearn.feature_selection import RFECV\n",
        "from sklearn.feature_selection import SelectKBest, chi2\n",
        "from sklearn.metrics import accuracy_score, f1_score\n",
        "from sklearn.metrics import f1_score,confusion_matrix\n",
        "from sklearn.model_selection import train_test_split\n",
        "from sklearn.linear_model import LogisticRegression\n"
      ],
      "execution_count": null,
      "outputs": []
    },
    {
      "cell_type": "markdown",
      "metadata": {
        "id": "AIG4cjGSOKSK",
        "colab_type": "text"
      },
      "source": [
        "# Forward Selection"
      ]
    },
    {
      "cell_type": "code",
      "metadata": {
        "id": "EULB-0-_OM-q",
        "colab_type": "code",
        "colab": {}
      },
      "source": [
        "# Train a logistic regression model here"
      ],
      "execution_count": null,
      "outputs": []
    },
    {
      "cell_type": "code",
      "metadata": {
        "id": "CBmsSFMvOc-E",
        "colab_type": "code",
        "colab": {}
      },
      "source": [
        "# Print the absolute weights of the model and sort them in descending order"
      ],
      "execution_count": null,
      "outputs": []
    },
    {
      "cell_type": "code",
      "metadata": {
        "id": "INErGSQEOgWx",
        "colab_type": "code",
        "colab": {}
      },
      "source": [
        "# Run a for loop where each time you train a new model by adding features (from no of features 1 to n) \n",
        "# with highest weights (based on absolute weight from initial model) \n",
        "# Note you can choose features randomly also "
      ],
      "execution_count": null,
      "outputs": []
    },
    {
      "cell_type": "code",
      "metadata": {
        "id": "2eBBbHLZPPe1",
        "colab_type": "code",
        "colab": {}
      },
      "source": [
        "# Print the accuracies of all the models trained and names of the features used for each time"
      ],
      "execution_count": null,
      "outputs": []
    },
    {
      "cell_type": "code",
      "metadata": {
        "id": "_4-OhYiWPkvl",
        "colab_type": "code",
        "colab": {}
      },
      "source": [
        "# Find a feature subset number where accuracy is maximum and number of features is minimum at the same time"
      ],
      "execution_count": null,
      "outputs": []
    },
    {
      "cell_type": "markdown",
      "metadata": {
        "id": "NdpVkxU6Psji",
        "colab_type": "text"
      },
      "source": [
        "# Backward Elimination"
      ]
    },
    {
      "cell_type": "code",
      "metadata": {
        "id": "IbA6_UeRPvBy",
        "colab_type": "code",
        "colab": {}
      },
      "source": [
        "# Train a logistic regression model here"
      ],
      "execution_count": null,
      "outputs": []
    },
    {
      "cell_type": "code",
      "metadata": {
        "id": "A6nhX03SPwmi",
        "colab_type": "code",
        "colab": {}
      },
      "source": [
        "# Print the absolute weights of the model and sort them in ascending order"
      ],
      "execution_count": null,
      "outputs": []
    },
    {
      "cell_type": "code",
      "metadata": {
        "id": "3765h0QTPxkR",
        "colab_type": "code",
        "colab": {}
      },
      "source": [
        "# Run a for loop where each time you train a new model by removing features (from no of features n to 1) \n",
        "# with lowest weights (based on absolute weight from initial model) \n",
        "# Note you can choose features randomly also "
      ],
      "execution_count": null,
      "outputs": []
    },
    {
      "cell_type": "code",
      "metadata": {
        "id": "lZ3dKQtLPzLk",
        "colab_type": "code",
        "colab": {}
      },
      "source": [
        "# Print the accuracies of all the models trained and names of the features used for each time"
      ],
      "execution_count": null,
      "outputs": []
    },
    {
      "cell_type": "code",
      "metadata": {
        "id": "B6PP5Fj0QNlr",
        "colab_type": "code",
        "colab": {}
      },
      "source": [
        "# Find a feature subset number where accuracy is maximum and number of features is minimum at the same time"
      ],
      "execution_count": null,
      "outputs": []
    },
    {
      "cell_type": "markdown",
      "metadata": {
        "id": "eADqqSm1-wmM",
        "colab_type": "text"
      },
      "source": [
        "# Recursive Feature Elimination. \n",
        "Recursive Feature Elimination (RFE) as its title suggests recursively removes features, builds a model using the remaining attributes and calculates model accuracy. \n"
      ]
    },
    {
      "cell_type": "code",
      "metadata": {
        "id": "rf6KdlgD3tiR",
        "colab_type": "code",
        "colab": {}
      },
      "source": [
        "X = banking1.iloc[:,0:16]\n",
        "y = banking1.iloc[:,16]\n",
        "logit = LogisticRegression()"
      ],
      "execution_count": null,
      "outputs": []
    },
    {
      "cell_type": "code",
      "metadata": {
        "id": "Pc2ijrbDDnzS",
        "colab_type": "code",
        "colab": {}
      },
      "source": [
        "X_train,X_test,y_train,y_test = train_test_split(?,?, test_size = ?, random_state = 10)"
      ],
      "execution_count": null,
      "outputs": []
    },
    {
      "cell_type": "code",
      "metadata": {
        "id": "apwow9tecYmi",
        "colab_type": "code",
        "colab": {}
      },
      "source": [
        "rfe = RFE(estimator=?, step=1)\n",
        "rfe = rfe.fit(?,?)"
      ],
      "execution_count": null,
      "outputs": []
    },
    {
      "cell_type": "code",
      "metadata": {
        "id": "kjp8m1pL44Xi",
        "colab_type": "code",
        "colab": {}
      },
      "source": [
        "cols = pd.DataFrame(?)\n",
        "ranking = pd.DataFrame(rfe.ranking_)"
      ],
      "execution_count": null,
      "outputs": []
    },
    {
      "cell_type": "code",
      "metadata": {
        "id": "Mh8fWvvGD9eJ",
        "colab_type": "code",
        "colab": {}
      },
      "source": [
        "rankings_of_features = pd.concat([cols,ranking],axis = 1)"
      ],
      "execution_count": null,
      "outputs": []
    },
    {
      "cell_type": "code",
      "metadata": {
        "id": "CCpW4RjuEQwT",
        "colab_type": "code",
        "colab": {}
      },
      "source": [
        "rankings_of_features"
      ],
      "execution_count": null,
      "outputs": []
    },
    {
      "cell_type": "code",
      "metadata": {
        "id": "JFCzpmJhEedk",
        "colab_type": "code",
        "colab": {}
      },
      "source": [
        "rankings_of_features.columns = [?,?]"
      ],
      "execution_count": null,
      "outputs": []
    },
    {
      "cell_type": "code",
      "metadata": {
        "id": "89pvzdHuFzNW",
        "colab_type": "code",
        "colab": {}
      },
      "source": [
        "rankings_of_features"
      ],
      "execution_count": null,
      "outputs": []
    },
    {
      "cell_type": "code",
      "metadata": {
        "id": "MzrDO56SF1od",
        "colab_type": "code",
        "colab": {}
      },
      "source": [
        "print(rankings_of_features.nlargest(5,'rank'))\n",
        "#remember this gives wrong results"
      ],
      "execution_count": null,
      "outputs": []
    },
    {
      "cell_type": "code",
      "metadata": {
        "id": "Lf8JHn4oGAPv",
        "colab_type": "code",
        "colab": {}
      },
      "source": [
        "rankings_of_features.sort_values(by='rank')"
      ],
      "execution_count": null,
      "outputs": []
    },
    {
      "cell_type": "code",
      "metadata": {
        "id": "r9lsliGEGQ9W",
        "colab_type": "code",
        "colab": {}
      },
      "source": [
        "#replace your X_train,X_test with new training data(the one which contains most impactful features)\n",
        "X_trainRFE = rfe.transform(?)\n",
        "X_testRFE = rfe.transform(?)"
      ],
      "execution_count": null,
      "outputs": []
    },
    {
      "cell_type": "code",
      "metadata": {
        "id": "xLIMcEtsHB26",
        "colab_type": "code",
        "colab": {}
      },
      "source": [
        "model = logit.fit(?,?)"
      ],
      "execution_count": null,
      "outputs": []
    },
    {
      "cell_type": "code",
      "metadata": {
        "id": "BHNuCKCmHPGb",
        "colab_type": "code",
        "colab": {}
      },
      "source": [
        "from sklearn import metrics\n",
        "from sklearn.model_selection import cross_val_score"
      ],
      "execution_count": null,
      "outputs": []
    },
    {
      "cell_type": "code",
      "metadata": {
        "id": "hToufAKPHbRZ",
        "colab_type": "code",
        "colab": {}
      },
      "source": [
        "logit.predict(X_testRFE)"
      ],
      "execution_count": null,
      "outputs": []
    },
    {
      "cell_type": "code",
      "metadata": {
        "id": "xeJ60dorHjhl",
        "colab_type": "code",
        "colab": {}
      },
      "source": [
        "score = logit.score(X_testRFE, y_test)\n",
        "print(score)"
      ],
      "execution_count": null,
      "outputs": []
    },
    {
      "cell_type": "markdown",
      "metadata": {
        "id": "BE7QbibmXY2w",
        "colab_type": "text"
      },
      "source": [
        "# RFE using cross validation"
      ]
    },
    {
      "cell_type": "code",
      "metadata": {
        "id": "f6Nae5YBIFMy",
        "colab_type": "code",
        "colab": {}
      },
      "source": [
        "rfecv = RFECV(estimator=logit, step=1, cv=5, scoring='accuracy')\n",
        "rfecv = rfecv.fit(?, ?)"
      ],
      "execution_count": null,
      "outputs": []
    },
    {
      "cell_type": "code",
      "metadata": {
        "id": "TfFOyfvTXdDH",
        "colab_type": "code",
        "colab": {}
      },
      "source": [
        "rfecv.grid_scores_"
      ],
      "execution_count": null,
      "outputs": []
    },
    {
      "cell_type": "code",
      "metadata": {
        "id": "pEwrywg0YMIh",
        "colab_type": "code",
        "colab": {}
      },
      "source": [
        "X_train_rfecv = rfecv.transform(?)\n",
        "X_test_rfecv = rfecv.transform(?)"
      ],
      "execution_count": null,
      "outputs": []
    },
    {
      "cell_type": "code",
      "metadata": {
        "id": "AXsJkgxwYQ7I",
        "colab_type": "code",
        "colab": {}
      },
      "source": [
        "model = logit.fit(?,?)"
      ],
      "execution_count": null,
      "outputs": []
    },
    {
      "cell_type": "code",
      "metadata": {
        "id": "3MTA38jMYS25",
        "colab_type": "code",
        "colab": {}
      },
      "source": [
        "logit.predict(?)\n"
      ],
      "execution_count": null,
      "outputs": []
    },
    {
      "cell_type": "code",
      "metadata": {
        "id": "zwULtfADYXpd",
        "colab_type": "code",
        "colab": {}
      },
      "source": [
        "logit.score(?,?)\n",
        "print(score)"
      ],
      "execution_count": null,
      "outputs": []
    },
    {
      "cell_type": "code",
      "metadata": {
        "id": "LB4ExUAqYZg1",
        "colab_type": "code",
        "colab": {}
      },
      "source": [
        ""
      ],
      "execution_count": null,
      "outputs": []
    }
  ]
}