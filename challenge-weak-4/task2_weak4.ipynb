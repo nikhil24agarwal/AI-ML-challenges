{
 "cells": [
  {
   "cell_type": "markdown",
   "metadata": {
    "colab_type": "text",
    "id": "8x0uD9KFRzgm"
   },
   "source": [
    "## Decision Tree Visualization"
   ]
  },
  {
   "cell_type": "markdown",
   "metadata": {
    "colab_type": "text",
    "id": "X21QVCY1Rzgn"
   },
   "source": [
    "### Decision Tree\n",
    "Decision tree is the most powerful and popular tool for classification and prediction. A Decision tree is a flowchart like tree structure, where each node finds the best threshold on that feature to further classify/predict more accurately, each branch represents an outcome of that threshold, and each leaf node holds a class label.\n",
    "<br><br>\n",
    "<img src=\"./data/image1.PNG\">"
   ]
  },
  {
   "cell_type": "code",
   "execution_count": null,
   "metadata": {
    "colab": {},
    "colab_type": "code",
    "id": "tvDOYjJ3Rzgo"
   },
   "outputs": [],
   "source": [
    "from matplotlib import pyplot as plt # For plotting\n",
    "from sklearn import datasets # For loading standard datasets\n",
    "from sklearn.tree import DecisionTreeClassifier # To run decision tree model\n",
    "from sklearn import tree # to visualize decision trees"
   ]
  },
  {
   "cell_type": "markdown",
   "metadata": {
    "colab_type": "text",
    "id": "xV_-diuoRzgs"
   },
   "source": [
    "#### Iris Dataset Description:\n",
    "- Classes: 3\n",
    "- Samples per class: 50\n",
    "- Samples total: 150\n",
    "- Dimesionaltiy: 4\n",
    "- Source: https://archive.ics.uci.edu/ml/datasets/iris\n",
    "\n",
    "<br>\n",
    "<strong>Quick Tip:</strong> sklearn.datasets has some toy datasets, the package also has helpers to fetch larger datasets commonly used by the machine learning community"
   ]
  },
  {
   "cell_type": "code",
   "execution_count": null,
   "metadata": {
    "colab": {},
    "colab_type": "code",
    "id": "qoGPd46JRzgt"
   },
   "outputs": [],
   "source": [
    "# Prepare the data data\n",
    "iris = datasets.load_iris()\n",
    "X = iris.data\n",
    "y = iris.target"
   ]
  },
  {
   "cell_type": "code",
   "execution_count": null,
   "metadata": {
    "colab": {
     "base_uri": "https://localhost:8080/",
     "height": 119
    },
    "colab_type": "code",
    "id": "SzEtxkI9Rzgw",
    "outputId": "d0c35f04-0c54-419b-8fa5-3efaa9e92055"
   },
   "outputs": [],
   "source": [
    "# Initialize the model\n",
    "clf = DecisionTreeClassifier()\n",
    "# Fir the model\n",
    "clf.fit(X,y)"
   ]
  },
  {
   "cell_type": "markdown",
   "metadata": {
    "colab_type": "text",
    "id": "VtLkgsOCRzg0"
   },
   "source": [
    "## Task\n",
    "- Train your own decision tree and play with the following hyper-parameters then state your observations on at least 15 different hyper-parameter settings. Following are only some of the parameters:\n",
    "    - __Must read__: https://scikit-learn.org/stable/modules/generated/sklearn.tree.DecisionTreeClassifier.html\n",
    "    - max_depth : The maximum depth of the tree. If None, then nodes are expanded until all leaves are pure or until all leaves contain less than min_samples_split samples.\n",
    "    - min_samples_split : The minimum number of samples required to split an internal node.\n",
    "    - min_samples_leaf : The minimum number of samples required to be at a leaf node. This may have the effect of smoothing the model, especially in regression.\n",
    "    - random state :  Controls the randomness of the estimator\n",
    "    \n",
    "- Write a function to calculate the accuracy\n",
    "- Print accuracies for each hyper-parameter setting used. Print in following format:\n",
    "    ```\n",
    "    1. PARAMS[random_state=1, max_depth=....] , Accuracy=0.97\n",
    "    2. PARAMS[random_state=42, min_samples_split=....] , Accuracy=0.94\n",
    "    ..\n",
    "    .\n",
    "    ```\n",
    "- Perform the same set of acitvites on different dataset: https://gist.github.com/kudaliar032/b8cf65d84b73903257ed603f6c1a2508\n"
   ]
  },
  {
   "cell_type": "code",
   "execution_count": null,
   "metadata": {
    "colab": {
     "base_uri": "https://localhost:8080/",
     "height": 119
    },
    "colab_type": "code",
    "id": "55BNEolMRzg1",
    "outputId": "7676b37c-603f-4442-b6fb-414c82a6ccf5"
   },
   "outputs": [],
   "source": [
    "# initialise and then Fit the classifier\n",
    "clf = DecisionTreeClassifier()\n",
    "clf.fit(X, y)"
   ]
  },
  {
   "cell_type": "code",
   "execution_count": null,
   "metadata": {
    "colab": {
     "base_uri": "https://localhost:8080/",
     "height": 459
    },
    "colab_type": "code",
    "id": "CtGIXF3pRzg4",
    "outputId": "03fd6c2f-8b6b-46bf-9fe4-03d9c2ae8b54"
   },
   "outputs": [],
   "source": [
    "# Gives text representation to the decision tree trained\n",
    "text_representation = tree.export_text(clf)\n",
    "print(text_representation)"
   ]
  },
  {
   "cell_type": "code",
   "execution_count": null,
   "metadata": {
    "colab": {},
    "colab_type": "code",
    "id": "QvoyJRQJRzg8"
   },
   "outputs": [],
   "source": [
    "# To save the above info in a text file\n",
    "with open(\"decistion_tree.log\", \"w\") as fout:\n",
    "    fout.write(text_representation)"
   ]
  },
  {
   "cell_type": "markdown",
   "metadata": {
    "colab_type": "text",
    "id": "Yq9P4NcKRzhB"
   },
   "source": [
    "### How to Visualize Decision Trees using Matplotlib\n",
    "Scikit-learn version >=0.21.0 allows Decision Trees to be plotted with matplotlib using 'sklearn.tree.plot_tree'"
   ]
  },
  {
   "cell_type": "code",
   "execution_count": null,
   "metadata": {
    "colab": {
     "base_uri": "https://localhost:8080/",
     "height": 989
    },
    "colab_type": "code",
    "id": "nX5-ANDbRzhB",
    "outputId": "51d23654-9549-4ec0-cdee-54476a340e65"
   },
   "outputs": [],
   "source": [
    "# Visualize the results in a beautiful manner using sklearn plot_tree\n",
    "# Look documentation for modifying fonts: https://scikit-learn.org/stable/modules/generated/sklearn.tree.plot_tree.html\n",
    "fig = plt.figure(figsize=(25,20))\n",
    "_ = tree.plot_tree(clf, \n",
    "                   feature_names=iris.feature_names,  \n",
    "                   class_names=iris.target_names,\n",
    "                   filled=True)"
   ]
  },
  {
   "cell_type": "markdown",
   "metadata": {
    "colab_type": "text",
    "id": "VWYjUATLRzhE"
   },
   "source": [
    " ##### In the above figure color of the nodes represent the majoritiy of the class"
   ]
  },
  {
   "cell_type": "code",
   "execution_count": null,
   "metadata": {
    "colab": {
     "base_uri": "https://localhost:8080/",
     "height": 34
    },
    "colab_type": "code",
    "id": "DfVC51PIRzhG",
    "outputId": "5f981445-6523-46e8-c288-5a4008997647"
   },
   "outputs": [],
   "source": [
    "# TODO: Write accuracy function here\n",
    "import sklearn.metrics as metrics\n",
    "from sklearn.model_selection import train_test_split\n",
    "X_s_train, X_s_test, y_s_train, y_s_test = train_test_split(X, y, test_size=0.25, random_state=6)\n",
    "y_pred=clf.predict(X_s_test)\n",
    "\n",
    "\n",
    "print(\"Accuracy:\",metrics.accuracy_score(y_s_test, y_pred))\n"
   ]
  },
  {
   "cell_type": "code",
   "execution_count": null,
   "metadata": {
    "colab": {
     "base_uri": "https://localhost:8080/",
     "height": 309
    },
    "colab_type": "code",
    "id": "5Ygl3_5cRzhL",
    "outputId": "6c50c536-5f4b-49c1-c721-196ed929b8a9"
   },
   "outputs": [],
   "source": [
    "\n",
    "# TODO: Print 15 hyperparam settings along with accuracy\n",
    "#dtree = tree.DecisionTreeClassifier(criterion = \"gini\", splitter = 'random', max_leaf_nodes = 10, min_samples_leaf = 5, max_depth= 5)\n",
    "import sklearn.metrics as metrics\n",
    "for i in range(5,13):\n",
    "  clf1=DecisionTreeClassifier(criterion = \"gini\", splitter = 'random', max_leaf_nodes = 10, min_samples_leaf = 5, max_depth= i)\n",
    "  clf1.fit(X,y)\n",
    "  X_s_train, X_s_test, y_s_train, y_s_test = train_test_split(X, y, test_size=0.25, random_state=10)\n",
    "  y_pred=clf1.predict(X_s_test)\n",
    "  print('PARAMS[criterion = \"gini\", splitter = \"random\", max_leaf_nodes = 10, min_samples_leaf = 5, max_depth=',i,']','  ',\"Accuracy:\",metrics.accuracy_score(y_s_test, y_pred))\n",
    "for i in range(35,43):\n",
    "  clf1=DecisionTreeClassifier(criterion = \"entropy\", splitter = 'random',min_samples_split=4, max_leaf_nodes = 5, min_samples_leaf = 5, max_depth= i)\n",
    "  clf1.fit(X,y)\n",
    "  X_s_train, X_s_test, y_s_train, y_s_test = train_test_split(X, y, test_size=0.25, random_state=10)\n",
    "  y_pred=clf1.predict(X_s_test)\n",
    "  print('PARAMS[criterion = \"entropy\", splitter = \"random\",min_samples_split=4, max_leaf_nodes = 5, min_samples_leaf = 5, max_depth=',i,']','  ',\"Accuracy:\",metrics.accuracy_score(y_s_test, y_pred))\n",
    "\n"
   ]
  },
  {
   "cell_type": "code",
   "execution_count": null,
   "metadata": {
    "colab": {},
    "colab_type": "code",
    "id": "Xq4UD9i9RzhO"
   },
   "outputs": [],
   "source": [
    "# Save the figure\n",
    "fig.savefig(\"decistion_tree.png\")"
   ]
  },
  {
   "cell_type": "markdown",
   "metadata": {
    "colab_type": "text",
    "id": "s6qZ78VmRzhQ"
   },
   "source": [
    "### How to visualize decision trees using graphviz\n",
    "\n",
    "If you get runtime error with graphviz, refer to\n",
    "- https://stackoverflow.com/questions/35064304/runtimeerror-make-sure-the-graphviz-executables-are-on-your-systems-path-aft"
   ]
  },
  {
   "cell_type": "markdown",
   "metadata": {
    "colab_type": "text",
    "id": "DNbf-kxhRzhR"
   },
   "source": [
    "Graph visualization is a way of representing structural information as diagrams of abstract graphs and networks."
   ]
  },
  {
   "cell_type": "code",
   "execution_count": null,
   "metadata": {
    "colab": {
     "base_uri": "https://localhost:8080/",
     "height": 916
    },
    "colab_type": "code",
    "id": "3aAkOS_XRzhS",
    "outputId": "776f012f-cfe9-49ec-c870-3630a4cb4c43"
   },
   "outputs": [],
   "source": [
    "import graphviz\n",
    "# DOT data - since graphviz accepts data in DOT we will convert our tree into a compatable format \n",
    "dot_data = tree.export_graphviz(clf, out_file=None, \n",
    "                                feature_names=iris.feature_names,  \n",
    "                                class_names=iris.target_names,\n",
    "                                filled=True)\n",
    "\n",
    "# Draw graph\n",
    "graph = graphviz.Source(dot_data, format=\"png\") \n",
    "graph"
   ]
  },
  {
   "cell_type": "code",
   "execution_count": null,
   "metadata": {
    "colab": {
     "base_uri": "https://localhost:8080/",
     "height": 35
    },
    "colab_type": "code",
    "id": "zmJs9mTRRzhU",
    "outputId": "08809d8a-7ceb-4c35-8a37-3b3829592cf6"
   },
   "outputs": [],
   "source": [
    "graph.render(\"decision_tree_graphivz\")"
   ]
  },
  {
   "cell_type": "markdown",
   "metadata": {
    "colab_type": "text",
    "id": "y83fFp2jRzhX"
   },
   "source": [
    "### Resources\n",
    "- https://mljar.com/blog/visualize-decision-tree/ (source code)\n",
    "- https://towardsdatascience.com/visualizing-decision-trees-with-python-scikit-learn-graphviz-matplotlib-1c50b4aa68dc\n",
    "- https://explained.ai/decision-tree-viz/\n",
    "- https://scikit-learn.org/stable/modules/generated/sklearn.tree.export_graphviz.html"
   ]
  },
  {
   "cell_type": "code",
   "execution_count": null,
   "metadata": {
    "colab": {},
    "colab_type": "code",
    "id": "KzWnItmERzhX"
   },
   "outputs": [],
   "source": []
  }
 ],
 "metadata": {
  "colab": {
   "name": "task_2_decision_tree_viz.ipynb",
   "provenance": []
  },
  "kernelspec": {
   "display_name": "Python 3",
   "language": "python",
   "name": "python3"
  },
  "language_info": {
   "codemirror_mode": {
    "name": "ipython",
    "version": 3
   },
   "file_extension": ".py",
   "mimetype": "text/x-python",
   "name": "python",
   "nbconvert_exporter": "python",
   "pygments_lexer": "ipython3",
   "version": "3.6.5"
  },
  "toc": {
   "base_numbering": 1,
   "nav_menu": {},
   "number_sections": true,
   "sideBar": true,
   "skip_h1_title": false,
   "title_cell": "Table of Contents",
   "title_sidebar": "Contents",
   "toc_cell": false,
   "toc_position": {},
   "toc_section_display": true,
   "toc_window_display": false
  }
 },
 "nbformat": 4,
 "nbformat_minor": 1
}
