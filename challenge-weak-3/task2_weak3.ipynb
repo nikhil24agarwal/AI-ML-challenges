{
 "cells": [
  {
   "cell_type": "markdown",
   "metadata": {
    "colab_type": "text",
    "id": "BHdMfFcnf_Ki"
   },
   "source": [
    "## Logistic Regression Modeling for Early Stage Diabetes Risk Prediction"
   ]
  },
  {
   "cell_type": "markdown",
   "metadata": {
    "colab_type": "text",
    "id": "KmhVSkPnLPGM"
   },
   "source": [
    "## Part 2.1: Getting familiar with linear algebraic functions"
   ]
  },
  {
   "cell_type": "markdown",
   "metadata": {
    "colab_type": "text",
    "id": "jkhsBHmTLPGN"
   },
   "source": [
    "#### Tasks\n",
    "- Create matrix of size 10*10 with random integer numbers\n",
    "- Compute the following linear algebric operations on the matrix using built in functions supported in Numpy, Scipy etc.\n",
    "  - Find inverse of the matrix and print it\n",
    "  - Calculate dot product of the matrix with same matrix in transpose A.AT\n",
    "  - Decompose the original matrix using eigen decomposition print the eigen values and eigen vectors\n",
    "  - Calculate jacobian matrix \n",
    "  - Calculate hessian matrix"
   ]
  },
  {
   "cell_type": "code",
   "execution_count": 167,
   "metadata": {
    "colab": {},
    "colab_type": "code",
    "id": "Ll2TF5kuLPGO"
   },
   "outputs": [],
   "source": [
    "import autograd.numpy as np\n",
    "matr = np.random.random((10,10))\n",
    "import matplotlib.pyplot as plt"
   ]
  },
  {
   "cell_type": "code",
   "execution_count": 168,
   "metadata": {
    "colab": {
     "base_uri": "https://localhost:8080/",
     "height": 353
    },
    "colab_type": "code",
    "id": "dVJKU9dJqzJV",
    "outputId": "eb216e16-7625-4a80-afbe-9ad85b24efbd"
   },
   "outputs": [
    {
     "name": "stdout",
     "output_type": "stream",
     "text": [
      "[[-0.1637904  -0.42645647 -0.47545894  0.00643069  1.1864866  -0.66144511\n",
      "  -0.02004544  0.53316028  0.4307022   0.32168999]\n",
      " [ 0.29785215 -0.33172765 -0.26126481 -0.208465    0.2950885   0.41937827\n",
      "   0.06998252  0.73822549 -0.44026591 -0.30752011]\n",
      " [ 1.27728255  0.86065297 -0.98245224  0.23473921 -0.62887584 -0.69463513\n",
      "  -0.46075934  0.04932551 -0.17753001 -0.29266935]\n",
      " [-0.69196109 -0.17507713  0.30964293 -0.36811196  0.21920334 -0.07111423\n",
      "   1.02282075  0.27934399 -0.16287856  0.44607196]\n",
      " [ 0.88675869 -0.04560601 -0.09554131  0.3194501   0.2494855  -0.41977574\n",
      "  -0.64028078  0.07988645 -0.89874687  0.45042654]\n",
      " [-0.29392142  0.03534907 -0.08850586 -0.57853356  0.46194835  0.53656407\n",
      "  -0.79564103  0.48412874  0.04582377  0.54431399]\n",
      " [-1.11572706  0.34480532  0.75203772  0.7209246  -0.80407161 -0.13138747\n",
      "   0.4213747  -0.26014362  0.59754673 -0.26697767]\n",
      " [ 0.51787528 -0.01217998  0.55194611 -0.45539576  0.18978038  0.05262426\n",
      "   0.28606222 -0.05499526  0.19286715 -0.73393815]\n",
      " [-0.09782567  0.33716415 -0.42924634  0.46992199  0.55460136  0.55551545\n",
      "  -0.52668356 -0.68765113 -0.7218852   0.59927569]\n",
      " [-1.00909268 -0.59507339  0.96901311  0.18942095 -1.12874397  0.25278339\n",
      "   1.18464651 -0.55226072  1.40861784 -0.32013073]]\n"
     ]
    }
   ],
   "source": [
    "# Inverse of matrix\n",
    "matr_inv = np.linalg.inv(matr)\n",
    "print(matr_inv)"
   ]
  },
  {
   "cell_type": "code",
   "execution_count": 169,
   "metadata": {
    "colab": {
     "base_uri": "https://localhost:8080/",
     "height": 34
    },
    "colab_type": "code",
    "id": "G2JphDXOq9r5",
    "outputId": "8cea7500-eda5-48ec-a23f-a9eb9a30323c"
   },
   "outputs": [
    {
     "name": "stdout",
     "output_type": "stream",
     "text": [
      "(10, 10)\n"
     ]
    }
   ],
   "source": [
    "matr_dot = np.dot(matr.T, matr)\n",
    "print(matr_dot.shape)"
   ]
  },
  {
   "cell_type": "code",
   "execution_count": 170,
   "metadata": {
    "colab": {
     "base_uri": "https://localhost:8080/",
     "height": 756
    },
    "colab_type": "code",
    "id": "6JbJeHVbLPGU",
    "outputId": "d3f29570-dd64-43d1-9cda-e92dcd8ca45b"
   },
   "outputs": [
    {
     "name": "stdout",
     "output_type": "stream",
     "text": [
      "Eigenvalues: [ 4.79683196+0.j          0.85744207+0.j          0.50503672+0.36563132j\n",
      "  0.50503672-0.36563132j -0.32579276+0.70039388j -0.32579276-0.70039388j\n",
      " -1.1839495 +0.j         -0.82767417+0.j         -0.4466989 +0.38590285j\n",
      " -0.4466989 -0.38590285j]\n",
      "Eigenvectors: [[-0.38931228+0.j          0.00989258+0.j          0.01057712-0.29355093j\n",
      "   0.01057712+0.29355093j  0.14799805+0.2082758j   0.14799805-0.2082758j\n",
      "   0.10522696+0.j         -0.52175267+0.j         -0.14493617-0.15755596j\n",
      "  -0.14493617+0.15755596j]\n",
      " [-0.33644642+0.j          0.33848144+0.j          0.26195411+0.16819443j\n",
      "   0.26195411-0.16819443j  0.05056876-0.06308866j  0.05056876+0.06308866j\n",
      "  -0.48152797+0.j          0.32073944+0.j          0.1044293 -0.1742923j\n",
      "   0.1044293 +0.1742923j ]\n",
      " [-0.20927175+0.j          0.28890082+0.j          0.14018246-0.04855951j\n",
      "   0.14018246+0.04855951j -0.27765865+0.19332463j -0.27765865-0.19332463j\n",
      "  -0.15669954+0.j          0.13823402+0.j          0.45315152+0.j\n",
      "   0.45315152-0.j        ]\n",
      " [-0.37142144+0.j          0.08217937+0.j         -0.29467466+0.01133953j\n",
      "  -0.29467466-0.01133953j -0.00748882-0.3400529j  -0.00748882+0.3400529j\n",
      "   0.66626081+0.j         -0.1650993 +0.j         -0.05656003-0.27213704j\n",
      "  -0.05656003+0.27213704j]\n",
      " [-0.17441419+0.j          0.18640047+0.j          0.10052303-0.24348318j\n",
      "   0.10052303+0.24348318j  0.07988857-0.39898761j  0.07988857+0.39898761j\n",
      "  -0.20923866+0.j          0.0903159 +0.j          0.35594779+0.06247911j\n",
      "   0.35594779-0.06247911j]\n",
      " [-0.35453022+0.j         -0.30090977+0.j          0.25360728+0.16186187j\n",
      "   0.25360728-0.16186187j  0.05958283-0.16843929j  0.05958283+0.16843929j\n",
      "   0.27742691+0.j         -0.49766093+0.j         -0.0387252 -0.06092262j\n",
      "  -0.0387252 +0.06092262j]\n",
      " [-0.27041573+0.j          0.11123921+0.j         -0.33850585+0.16195211j\n",
      "  -0.33850585-0.16195211j  0.0614845 +0.05446855j  0.0614845 -0.05446855j\n",
      "  -0.17204557+0.j         -0.39757403+0.j         -0.22512889+0.16239113j\n",
      "  -0.22512889-0.16239113j]\n",
      " [-0.31111428+0.j          0.42543159+0.j          0.32483117+0.08278419j\n",
      "   0.32483117-0.08278419j -0.17547098+0.18067445j -0.17547098-0.18067445j\n",
      "   0.27316184+0.j          0.30599903+0.j         -0.32373255+0.15058986j\n",
      "  -0.32373255-0.15058986j]\n",
      " [-0.32780763+0.j         -0.38655005+0.j         -0.09789153-0.0830349j\n",
      "  -0.09789153+0.0830349j   0.51288387+0.j          0.51288387-0.j\n",
      "   0.01818154+0.j          0.18231729+0.j          0.24709736+0.20409423j\n",
      "   0.24709736-0.20409423j]\n",
      " [-0.34641682+0.j         -0.57187092+0.j         -0.52751319+0.j\n",
      "  -0.52751319-0.j         -0.32324414+0.25061375j -0.32324414-0.25061375j\n",
      "  -0.25160632+0.j          0.19434625+0.j         -0.43008298-0.04745376j\n",
      "  -0.43008298+0.04745376j]]\n"
     ]
    }
   ],
   "source": [
    "eig_values, eig_vectors = np.linalg.eig(matr)\n",
    "print(\"Eigenvalues:\", eig_values)\n",
    "print(\"Eigenvectors:\", eig_vectors)"
   ]
  },
  {
   "cell_type": "code",
   "execution_count": 171,
   "metadata": {
    "colab": {},
    "colab_type": "code",
    "id": "n_Ke0hTZLPGZ"
   },
   "outputs": [],
   "source": [
    "def fun(x):\n",
    "    y = autograd.numpy.sum(x**3)\n",
    "    return y"
   ]
  },
  {
   "cell_type": "code",
   "execution_count": 172,
   "metadata": {
    "colab": {},
    "colab_type": "code",
    "id": "eD2BIiwdLPGd"
   },
   "outputs": [],
   "source": [
    "import autograd\n",
    "j = autograd.jacobian(fun)\n",
    "h = autograd.hessian(fun)"
   ]
  },
  {
   "cell_type": "code",
   "execution_count": 173,
   "metadata": {
    "colab": {
     "base_uri": "https://localhost:8080/",
     "height": 101
    },
    "colab_type": "code",
    "id": "SmrbhBwhLPGi",
    "outputId": "cb4c1f80-ae88-4ef8-c45b-29978057b18b"
   },
   "outputs": [
    {
     "name": "stdout",
     "output_type": "stream",
     "text": [
      "Jacobian at point [5. 5.] is:\n",
      "  [75. 75.]\n",
      "Hessian at point [5. 5.] is:\n",
      "  [[30.  0.]\n",
      " [ 0. 30.]]\n"
     ]
    }
   ],
   "source": [
    "x = autograd.numpy.array([5., 5.])\n",
    "print(f\"Jacobian at point {x} is:\\n \",j(x))\n",
    "print(f\"Hessian at point {x} is:\\n \", h(x))"
   ]
  },
  {
   "cell_type": "markdown",
   "metadata": {
    "colab_type": "text",
    "id": "nnRVxpV_LPGm"
   },
   "source": [
    "## Part 2.2: Logistic Regression using newton method"
   ]
  },
  {
   "cell_type": "markdown",
   "metadata": {
    "colab_type": "text",
    "id": "1LWrifqkf_Kj"
   },
   "source": [
    "### Logistic regression\n",
    "Logistic regression uses an equation as the representation, very much like linear regression.\n",
    "\n",
    "Input values (x) are combined linearly using weights or coefficient values (referred to as W) to predict an output value (y). A key difference from linear regression is that the output value being modeled is a binary values (0 or 1) rather than a continuous value.<br>\n",
    "\n",
    "###  $\\hat{y}(w, x) = \\frac{1}{1+exp^{-(w_0 + w_1 * x_1 + ... + w_p * x_p)}}$\n",
    "\n",
    "#### Dataset\n",
    "The dataset is available at <strong>\"data/diabetes_data.csv\"</strong> in the respective challenge's repo.<br>\n",
    "<strong>Original Source:</strong> http://archive.ics.uci.edu/ml/machine-learning-databases/00529/diabetes_data_upload.csv. The dataset just got released in July 2020.<br><br>\n",
    "\n",
    "#### Features (X)\n",
    "\n",
    "1. Age                - Values ranging from 16-90\n",
    "2. Gender             - Binary value (Male/Female)\n",
    "3. Polyuria           - Binary value (Yes/No)\n",
    "4. Polydipsia         - Binary value (Yes/No)\n",
    "5. sudden weight loss - Binary value (Yes/No)\n",
    "6. weakness           - Binary value (Yes/No)\n",
    "7. Polyphagia         - Binary value (Yes/No)\n",
    "8. Genital thrush     - Binary value (Yes/No)\n",
    "9. visual blurring    - Binary value (Yes/No)\n",
    "10. Itching           - Binary value (Yes/No)\n",
    "11. Irritability      - Binary value (Yes/No)\n",
    "12. delayed healing   - Binary value (Yes/No)\n",
    "13. partial paresis   - Binary value (Yes/No)\n",
    "14. muscle stiffness  - Binary value (Yes/No)\n",
    "15. Alopecia          - Binary value (Yes/No)\n",
    "16. Obesity           - Binary value (Yes/No)\n",
    "\n",
    "#### Output/Target target (Y) \n",
    "17. class - Binary class (Positive/Negative)\n",
    "\n",
    "#### Objective\n",
    "To learn logistic regression and practice handling of both numerical and categorical features\n",
    "\n",
    "#### Tasks\n",
    "- Download, load the data and print first 5 and last 5 rows\n",
    "- Transform categorical features into numerical features. Use label encoding or any other suitable preprocessing technique\n",
    "- Since the age feature is in larger range, age column can be normalized into smaller scale (like 0 to 1) using different methods such as scaling, standardizing or any other suitable preprocessing technique (Example - sklearn.preprocessing.MinMaxScaler class)\n",
    "- Define X matrix (independent features) and y vector (target feature)\n",
    "- Split the dataset into 60% for training and rest 40% for testing (sklearn.model_selection.train_test_split function)\n",
    "- Train Logistic Regression Model on the training set (sklearn.linear_model.LogisticRegression class)\n",
    "- Use the trained model to predict on testing set\n",
    "- Print 'Accuracy' obtained on the testing dataset i.e. (sklearn.metrics.accuracy_score function)\n",
    "\n",
    "#### Further fun (will not be evaluated)\n",
    "- Plot loss curve (Loss vs number of iterations)\n",
    "- Preprocess data with different feature scaling methods (i.e. scaling, normalization, standardization, etc) and observe accuracies on both X_train and X_test\n",
    "- Training model on different train-test splits such as 60-40, 50-50, 70-30, 80-20, 90-10, 95-5 etc. and observe accuracies on both X_train and X_test\n",
    "- Shuffling of training samples with different *random seed values* in the train_test_split function. Check the model error for the testing data for each setup.\n",
    "- Print other classification metrics such as:\n",
    "    - classification report (sklearn.metrics.classification_report),\n",
    "    - confusion matrix (sklearn.metrics.confusion_matrix),\n",
    "    - precision, recall and f1 scores (sklearn.metrics.precision_recall_fscore_support)\n",
    "\n",
    "#### Helpful links\n",
    "- Scikit-learn documentation for logistic regression: https://scikit-learn.org/stable/modules/generated/sklearn.linear_model.LogisticRegression.html\n",
    "- How Logistic Regression works: https://machinelearningmastery.com/logistic-regression-for-machine-learning/\n",
    "- Feature Scaling: https://scikit-learn.org/stable/modules/preprocessing.html\n",
    "- Training testing splitting: https://scikit-learn.org/stable/modules/generated/sklearn.model_selection.train_test_split.html\n",
    "- Classification metrics in sklearn: https://scikit-learn.org/stable/modules/classes.html#module-sklearn.metrics\n",
    "- Use slack for doubts: https://join.slack.com/t/deepconnectai/shared_invite/zt-givlfnf6-~cn3SQ43k0BGDrG9_YOn4g"
   ]
  },
  {
   "cell_type": "code",
   "execution_count": 174,
   "metadata": {
    "colab": {},
    "colab_type": "code",
    "id": "-i4VgviHf_Kk"
   },
   "outputs": [],
   "source": [
    "import numpy as np\n",
    "import pandas as pd\n",
    "from sklearn.model_selection import train_test_split\n",
    "from sklearn.linear_model import LogisticRegression\n",
    "from sklearn.metrics import accuracy_score\n"
   ]
  },
  {
   "cell_type": "code",
   "execution_count": 175,
   "metadata": {
    "colab": {
     "base_uri": "https://localhost:8080/",
     "height": 286
    },
    "colab_type": "code",
    "id": "ooYDzG4SnErt",
    "outputId": "0ec4b1ea-5d51-4214-b7ea-3f3d5c5e9a84"
   },
   "outputs": [
    {
     "name": "stdout",
     "output_type": "stream",
     "text": [
      "--2020-08-30 14:57:12--  https://github.com/DeepConnectAI/challenge-week-3/raw/master/data/diabetes_data.csv\n",
      "Resolving github.com (github.com)... 140.82.112.3\n",
      "Connecting to github.com (github.com)|140.82.112.3|:443... connected.\n",
      "HTTP request sent, awaiting response... 302 Found\n",
      "Location: https://raw.githubusercontent.com/DeepConnectAI/challenge-week-3/master/data/diabetes_data.csv [following]\n",
      "--2020-08-30 14:57:12--  https://raw.githubusercontent.com/DeepConnectAI/challenge-week-3/master/data/diabetes_data.csv\n",
      "Resolving raw.githubusercontent.com (raw.githubusercontent.com)... 151.101.0.133, 151.101.64.133, 151.101.128.133, ...\n",
      "Connecting to raw.githubusercontent.com (raw.githubusercontent.com)|151.101.0.133|:443... connected.\n",
      "HTTP request sent, awaiting response... 200 OK\n",
      "Length: 34161 (33K) [text/plain]\n",
      "Saving to: ‘diabetes_data.csv.3’\n",
      "\n",
      "diabetes_data.csv.3 100%[===================>]  33.36K  --.-KB/s    in 0.01s   \n",
      "\n",
      "2020-08-30 14:57:12 (2.47 MB/s) - ‘diabetes_data.csv.3’ saved [34161/34161]\n",
      "\n"
     ]
    }
   ],
   "source": [
    "# Download the dataset from the source\n",
    "!wget https://github.com/DeepConnectAI/challenge-week-3/raw/master/data/diabetes_data.csv\n"
   ]
  },
  {
   "cell_type": "code",
   "execution_count": 176,
   "metadata": {
    "colab": {},
    "colab_type": "code",
    "id": "XqZrgW_if_Kq"
   },
   "outputs": [],
   "source": [
    "# NOTE: DO NOT CHANGE THE VARIABLE NAME(S) IN THIS CELL\n",
    "# Load the data\n",
    "#np.random.seed(1)\n",
    "\n",
    "data = pd.read_csv(\"diabetes_data.csv\")"
   ]
  },
  {
   "cell_type": "code",
   "execution_count": 177,
   "metadata": {
    "colab": {},
    "colab_type": "code",
    "id": "xMEk4BlULPHF"
   },
   "outputs": [],
   "source": [
    "data.insert(0, 'intercept', 1, True)"
   ]
  },
  {
   "cell_type": "code",
   "execution_count": 178,
   "metadata": {
    "colab": {
     "base_uri": "https://localhost:8080/",
     "height": 229
    },
    "colab_type": "code",
    "id": "FO4EqG-tLPHf",
    "outputId": "59c8629b-51cb-4b61-a57f-f1ea0c87dd99"
   },
   "outputs": [
    {
     "data": {
      "text/html": [
       "<div>\n",
       "<style scoped>\n",
       "    .dataframe tbody tr th:only-of-type {\n",
       "        vertical-align: middle;\n",
       "    }\n",
       "\n",
       "    .dataframe tbody tr th {\n",
       "        vertical-align: top;\n",
       "    }\n",
       "\n",
       "    .dataframe thead th {\n",
       "        text-align: right;\n",
       "    }\n",
       "</style>\n",
       "<table border=\"1\" class=\"dataframe\">\n",
       "  <thead>\n",
       "    <tr style=\"text-align: right;\">\n",
       "      <th></th>\n",
       "      <th>intercept</th>\n",
       "      <th>Age</th>\n",
       "      <th>Gender</th>\n",
       "      <th>Polyuria</th>\n",
       "      <th>Polydipsia</th>\n",
       "      <th>sudden weight loss</th>\n",
       "      <th>weakness</th>\n",
       "      <th>Polyphagia</th>\n",
       "      <th>Genital thrush</th>\n",
       "      <th>visual blurring</th>\n",
       "      <th>Itching</th>\n",
       "      <th>Irritability</th>\n",
       "      <th>delayed healing</th>\n",
       "      <th>partial paresis</th>\n",
       "      <th>muscle stiffness</th>\n",
       "      <th>Alopecia</th>\n",
       "      <th>Obesity</th>\n",
       "      <th>class</th>\n",
       "    </tr>\n",
       "  </thead>\n",
       "  <tbody>\n",
       "    <tr>\n",
       "      <th>0</th>\n",
       "      <td>1</td>\n",
       "      <td>40</td>\n",
       "      <td>Male</td>\n",
       "      <td>No</td>\n",
       "      <td>Yes</td>\n",
       "      <td>No</td>\n",
       "      <td>Yes</td>\n",
       "      <td>No</td>\n",
       "      <td>No</td>\n",
       "      <td>No</td>\n",
       "      <td>Yes</td>\n",
       "      <td>No</td>\n",
       "      <td>Yes</td>\n",
       "      <td>No</td>\n",
       "      <td>Yes</td>\n",
       "      <td>Yes</td>\n",
       "      <td>Yes</td>\n",
       "      <td>Positive</td>\n",
       "    </tr>\n",
       "    <tr>\n",
       "      <th>1</th>\n",
       "      <td>1</td>\n",
       "      <td>58</td>\n",
       "      <td>Male</td>\n",
       "      <td>No</td>\n",
       "      <td>No</td>\n",
       "      <td>No</td>\n",
       "      <td>Yes</td>\n",
       "      <td>No</td>\n",
       "      <td>No</td>\n",
       "      <td>Yes</td>\n",
       "      <td>No</td>\n",
       "      <td>No</td>\n",
       "      <td>No</td>\n",
       "      <td>Yes</td>\n",
       "      <td>No</td>\n",
       "      <td>Yes</td>\n",
       "      <td>No</td>\n",
       "      <td>Positive</td>\n",
       "    </tr>\n",
       "    <tr>\n",
       "      <th>2</th>\n",
       "      <td>1</td>\n",
       "      <td>41</td>\n",
       "      <td>Male</td>\n",
       "      <td>Yes</td>\n",
       "      <td>No</td>\n",
       "      <td>No</td>\n",
       "      <td>Yes</td>\n",
       "      <td>Yes</td>\n",
       "      <td>No</td>\n",
       "      <td>No</td>\n",
       "      <td>Yes</td>\n",
       "      <td>No</td>\n",
       "      <td>Yes</td>\n",
       "      <td>No</td>\n",
       "      <td>Yes</td>\n",
       "      <td>Yes</td>\n",
       "      <td>No</td>\n",
       "      <td>Positive</td>\n",
       "    </tr>\n",
       "    <tr>\n",
       "      <th>3</th>\n",
       "      <td>1</td>\n",
       "      <td>45</td>\n",
       "      <td>Male</td>\n",
       "      <td>No</td>\n",
       "      <td>No</td>\n",
       "      <td>Yes</td>\n",
       "      <td>Yes</td>\n",
       "      <td>Yes</td>\n",
       "      <td>Yes</td>\n",
       "      <td>No</td>\n",
       "      <td>Yes</td>\n",
       "      <td>No</td>\n",
       "      <td>Yes</td>\n",
       "      <td>No</td>\n",
       "      <td>No</td>\n",
       "      <td>No</td>\n",
       "      <td>No</td>\n",
       "      <td>Positive</td>\n",
       "    </tr>\n",
       "    <tr>\n",
       "      <th>4</th>\n",
       "      <td>1</td>\n",
       "      <td>60</td>\n",
       "      <td>Male</td>\n",
       "      <td>Yes</td>\n",
       "      <td>Yes</td>\n",
       "      <td>Yes</td>\n",
       "      <td>Yes</td>\n",
       "      <td>Yes</td>\n",
       "      <td>No</td>\n",
       "      <td>Yes</td>\n",
       "      <td>Yes</td>\n",
       "      <td>Yes</td>\n",
       "      <td>Yes</td>\n",
       "      <td>Yes</td>\n",
       "      <td>Yes</td>\n",
       "      <td>Yes</td>\n",
       "      <td>Yes</td>\n",
       "      <td>Positive</td>\n",
       "    </tr>\n",
       "  </tbody>\n",
       "</table>\n",
       "</div>"
      ],
      "text/plain": [
       "   intercept  Age Gender Polyuria  ... muscle stiffness Alopecia Obesity     class\n",
       "0          1   40   Male       No  ...              Yes      Yes     Yes  Positive\n",
       "1          1   58   Male       No  ...               No      Yes      No  Positive\n",
       "2          1   41   Male      Yes  ...              Yes      Yes      No  Positive\n",
       "3          1   45   Male       No  ...               No       No      No  Positive\n",
       "4          1   60   Male      Yes  ...              Yes      Yes     Yes  Positive\n",
       "\n",
       "[5 rows x 18 columns]"
      ]
     },
     "execution_count": 178,
     "metadata": {
      "tags": []
     },
     "output_type": "execute_result"
    }
   ],
   "source": [
    "data.head()"
   ]
  },
  {
   "cell_type": "code",
   "execution_count": 179,
   "metadata": {
    "colab": {},
    "colab_type": "code",
    "id": "hjCRzhp_f_Kw"
   },
   "outputs": [],
   "source": [
    "# Handle categorical/binary columns"
   ]
  },
  {
   "cell_type": "code",
   "execution_count": 180,
   "metadata": {
    "colab": {},
    "colab_type": "code",
    "id": "ZLGU6AXsLPH6"
   },
   "outputs": [],
   "source": [
    "yes_no_columns = [c for c in data.columns if c not in ['intercept','Age','Gender','class']]"
   ]
  },
  {
   "cell_type": "code",
   "execution_count": 181,
   "metadata": {
    "colab": {},
    "colab_type": "code",
    "id": "eVJD33Y-LPIA"
   },
   "outputs": [],
   "source": [
    "data[yes_no_columns] = pd.DataFrame(np.where(data[yes_no_columns].values=='Yes', 1, 0), data.index)"
   ]
  },
  {
   "cell_type": "code",
   "execution_count": 182,
   "metadata": {
    "colab": {},
    "colab_type": "code",
    "id": "kxQFh8IqLPIG"
   },
   "outputs": [],
   "source": [
    "data['Gender'] = data['Gender'].map(dict(Female=1, Male=0))\n",
    "data['class'] = data['class'].map(dict(Positive=1, Negative=0))"
   ]
  },
  {
   "cell_type": "code",
   "execution_count": 183,
   "metadata": {
    "colab": {},
    "colab_type": "code",
    "id": "3aNK0lA1f_Kz"
   },
   "outputs": [],
   "source": [
    "# Normalize the age feature"
   ]
  },
  {
   "cell_type": "code",
   "execution_count": 184,
   "metadata": {
    "colab": {},
    "colab_type": "code",
    "id": "jLXDSPJZtuPj"
   },
   "outputs": [],
   "source": [
    "from sklearn.preprocessing import MinMaxScaler"
   ]
  },
  {
   "cell_type": "code",
   "execution_count": 185,
   "metadata": {
    "colab": {},
    "colab_type": "code",
    "id": "tqCVUtIUf_K3"
   },
   "outputs": [],
   "source": [
    "data['Age'] = MinMaxScaler().fit_transform(data[['Age']])"
   ]
  },
  {
   "cell_type": "code",
   "execution_count": 186,
   "metadata": {
    "colab": {},
    "colab_type": "code",
    "id": "0Uc-BEzqf_K-"
   },
   "outputs": [],
   "source": [
    "# Define your X and y\n",
    "X = data[[c for c in data.columns if c!='class']].values\n",
    "y = data['class'].values"
   ]
  },
  {
   "cell_type": "code",
   "execution_count": 187,
   "metadata": {
    "colab": {},
    "colab_type": "code",
    "id": "DIiMrIaajX-Q"
   },
   "outputs": [],
   "source": [
    "# Split the dataset into training and testing here\n",
    "X_train, X_test, y_train, y_test = train_test_split(X, y, test_size=0.4, random_state=42)"
   ]
  },
  {
   "cell_type": "code",
   "execution_count": 188,
   "metadata": {
    "colab": {},
    "colab_type": "code",
    "id": "bo38a0AyLPIq"
   },
   "outputs": [],
   "source": [
    "def predict(X, weights):\n",
    "    '''Predict class for X.\n",
    "    For the given dataset, predicted vector has only values 0/1\n",
    "    Args:\n",
    "        X : Numpy array (num_samples, num_features)\n",
    "        weights : Model weights for logistic regression\n",
    "    Returns:\n",
    "        Binary predictions : (num_samples,)\n",
    "    '''\n",
    "\n",
    "    ### START CODE HERE ###\n",
    "    z = np.dot(X, weights)\n",
    "    logits = sigmoid(z)\n",
    "    y_pred = logits.round() \n",
    "    ### END CODE HERE ###\n",
    "    \n",
    "    return y_pred"
   ]
  },
  {
   "cell_type": "code",
   "execution_count": 189,
   "metadata": {
    "colab": {},
    "colab_type": "code",
    "id": "AVFWgK20ymbb"
   },
   "outputs": [],
   "source": [
    "import autograd.numpy as np"
   ]
  },
  {
   "cell_type": "code",
   "execution_count": 189,
   "metadata": {
    "colab": {},
    "colab_type": "code",
    "id": "neVruDH7LPIw"
   },
   "outputs": [],
   "source": [
    "\n"
   ]
  },
  {
   "cell_type": "code",
   "execution_count": 190,
   "metadata": {
    "colab": {},
    "colab_type": "code",
    "id": "7AlIzVAv3qPd"
   },
   "outputs": [],
   "source": [
    "def sigmoid(z):\n",
    "        '''Sigmoid function: f:R->(0,1)\n",
    "        Args:\n",
    "            z : A numpy array (num_samples,)\n",
    "        Returns:\n",
    "            A numpy array where sigmoid function applied to every element\n",
    "        '''\n",
    "        ### START CODE HERE\n",
    "        sig_z = 1./(1. + np.exp(-1.0*z))\n",
    "        ### END CODE HERE\n",
    "        \n",
    "        assert (z.shape==sig_z.shape), 'Error in sigmoid implementation. Check carefully'\n",
    "        return sig_z"
   ]
  },
  {
   "cell_type": "code",
   "execution_count": 191,
   "metadata": {
    "colab": {},
    "colab_type": "code",
    "id": "pTbR6dKQLPI3"
   },
   "outputs": [],
   "source": [
    "def cross_entropy_loss(y_true, y_pred):\n",
    "    '''Calculate cross entropy loss\n",
    "    Note: Cross entropy is defined for multiple classes/labels as well\n",
    "    but for this dataset we only need binary cross entropy loss\n",
    "    Args:\n",
    "        y_true : Numpy array of true values (0/1) of size (num_samples,)\n",
    "        y_pred : Numpy array of predicted values (probabilites) of size (num_samples,)\n",
    "    Returns:\n",
    "        Cross entropy loss: A scalar value\n",
    "    '''\n",
    "    # Fix 0 values in y_pred\n",
    "    eps = 1e-15\n",
    "\n",
    "    y_pred = np.maximum(np.full(y_pred.shape, 1e-7), np.minimum(np.full(y_pred.shape, 1-eps), y_pred))\n",
    "    \n",
    "    ### START CODE HERE\n",
    "    ce_loss = np.mean(-y_true*np.log(y_pred) - (1-y_true)*np.log(1-y_pred)) \n",
    "    ### END CODE HERE\n",
    "    \n",
    "    return ce_loss"
   ]
  },
  {
   "cell_type": "code",
   "execution_count": 192,
   "metadata": {
    "colab": {},
    "colab_type": "code",
    "id": "8-XrZVYyucrN"
   },
   "outputs": [],
   "source": [
    "def training_loss(weights):\n",
    "    z = np.dot(X, weights)\n",
    "    y_pred = sigmoid(z)\n",
    "    loss = cross_entropy_loss(y, y_pred)\n",
    "    return loss"
   ]
  },
  {
   "cell_type": "code",
   "execution_count": 193,
   "metadata": {
    "colab": {},
    "colab_type": "code",
    "id": "0sY4FZaKu8Z5"
   },
   "outputs": [],
   "source": [
    "jac = autograd.jacobian(training_loss)\n",
    "hes = autograd.hessian(training_loss)"
   ]
  },
  {
   "cell_type": "code",
   "execution_count": 194,
   "metadata": {
    "colab": {},
    "colab_type": "code",
    "id": "5fhwvNQKLPI-"
   },
   "outputs": [],
   "source": [
    "def newton_optimization(X, y, max_iterations=25):\n",
    "    '''Implement netwon method for optimizing weights\n",
    "    Args:\n",
    "        X : Numpy array (num_samples, num_features)\n",
    "        max_iterations : Max iterations to update the weights\n",
    "    Returns:\n",
    "        Optimal weights (num_features,)\n",
    "    '''\n",
    "    num_samples = X.shape[0]\n",
    "    num_features = X.shape[1]\n",
    "    # Initialize random weights\n",
    "    weights = np.zeros(num_features,)\n",
    "    # Initialize losses\n",
    "    losses = []\n",
    "    \n",
    "    # Newton Method\n",
    "    for i in range(max_iterations):\n",
    "        # Predict/Calculate probabilties using sigmoid function\n",
    "        z = np.dot(X, weights)\n",
    "        y_p = sigmoid(z) \n",
    "        \n",
    "        # Define gradient for J (cost function) i.e. cross entropy loss\n",
    "        gradient = jac(weights)\n",
    "        \n",
    "        # Define hessian matrix for cross entropy loss\n",
    "        hessian = hes(weights)\n",
    "        \n",
    "        # Update the model using hessian matrix and gradient computed\n",
    "        weights -= np.dot(np.linalg.pinv(hessian), gradient)  \n",
    "        \n",
    "        # Calculate cross entropy loss\n",
    "        loss = cross_entropy_loss(y, y_p)\n",
    "        # Append it\n",
    "        losses.append(loss)\n",
    "\n",
    "    return weights, losses"
   ]
  },
  {
   "cell_type": "code",
   "execution_count": 195,
   "metadata": {
    "colab": {},
    "colab_type": "code",
    "id": "mYMym1k_LPJC"
   },
   "outputs": [],
   "source": [
    "# Train weights\n",
    "weights, losses = newton_optimization(X_train, y_train)"
   ]
  },
  {
   "cell_type": "code",
   "execution_count": 196,
   "metadata": {
    "colab": {
     "base_uri": "https://localhost:8080/",
     "height": 295
    },
    "colab_type": "code",
    "id": "ZAKCsV6FLPJJ",
    "outputId": "3337702d-ca47-4beb-9e3a-93263dccd2ce"
   },
   "outputs": [
    {
     "data": {
      "image/png": "[encoded data removed]",
      "text/plain": [
       "<Figure size 432x288 with 1 Axes>"
      ]
     },
     "metadata": {
      "needs_background": "light",
      "tags": []
     },
     "output_type": "display_data"
    }
   ],
   "source": [
    "# Plot the loss curve\n",
    "plt.plot([i+1 for i in range(len(losses))], losses)\n",
    "plt.title(\"Loss curve\")\n",
    "plt.xlabel(\"Iteration num\")\n",
    "plt.ylabel(\"Cross entropy curve\")\n",
    "plt.show()"
   ]
  },
  {
   "cell_type": "code",
   "execution_count": 197,
   "metadata": {
    "colab": {
     "base_uri": "https://localhost:8080/",
     "height": 50
    },
    "colab_type": "code",
    "id": "UHWtkNDlLPJU",
    "outputId": "7d196dc8-c007-42c8-ff4a-7e18eb5c5396"
   },
   "outputs": [
    {
     "name": "stdout",
     "output_type": "stream",
     "text": [
      "\n",
      "Accuracy in testing set by our model: 0.9423076923076923\n"
     ]
    }
   ],
   "source": [
    "our_model_test_acuracy = accuracy_score(y_test, predict(X_test, weights))\n",
    "\n",
    "print(f\"\\nAccuracy in testing set by our model: {our_model_test_acuracy}\")"
   ]
  },
  {
   "cell_type": "markdown",
   "metadata": {
    "colab_type": "text",
    "id": "fhbb1M9_LPJa"
   },
   "source": [
    "#### Compare with the scikit learn implementation"
   ]
  },
  {
   "cell_type": "code",
   "execution_count": 198,
   "metadata": {
    "colab": {},
    "colab_type": "code",
    "id": "Qhvibx3Xf_LB"
   },
   "outputs": [],
   "source": [
    "# Initialize the model\n",
    "model = LogisticRegression(solver='newton-cg', verbose=1)"
   ]
  },
  {
   "cell_type": "code",
   "execution_count": 199,
   "metadata": {
    "colab": {
     "base_uri": "https://localhost:8080/",
     "height": 134
    },
    "colab_type": "code",
    "id": "ndXHgNLxf_LD",
    "outputId": "4b668ccc-b0ba-4581-b677-25adf0554fb5"
   },
   "outputs": [
    {
     "name": "stderr",
     "output_type": "stream",
     "text": [
      "[Parallel(n_jobs=1)]: Using backend SequentialBackend with 1 concurrent workers.\n",
      "[Parallel(n_jobs=1)]: Done   1 out of   1 | elapsed:    0.0s finished\n"
     ]
    },
    {
     "data": {
      "text/plain": [
       "LogisticRegression(C=1.0, class_weight=None, dual=False, fit_intercept=True,\n",
       "                   intercept_scaling=1, l1_ratio=None, max_iter=100,\n",
       "                   multi_class='auto', n_jobs=None, penalty='l2',\n",
       "                   random_state=None, solver='newton-cg', tol=0.0001, verbose=1,\n",
       "                   warm_start=False)"
      ]
     },
     "execution_count": 199,
     "metadata": {
      "tags": []
     },
     "output_type": "execute_result"
    }
   ],
   "source": [
    "# Fit the model. Wait! We will complete this step for you ;)\n",
    "model.fit(X_train, y_train)"
   ]
  },
  {
   "cell_type": "code",
   "execution_count": 200,
   "metadata": {
    "colab": {},
    "colab_type": "code",
    "id": "oHOeLfjFjeNh"
   },
   "outputs": [],
   "source": [
    "# Predict on testing set X_test\n",
    "y_pred = model.predict(X_test)"
   ]
  },
  {
   "cell_type": "code",
   "execution_count": 201,
   "metadata": {
    "colab": {
     "base_uri": "https://localhost:8080/",
     "height": 50
    },
    "colab_type": "code",
    "id": "eE5g0uoYf_LG",
    "outputId": "58df9e60-7072-41e5-8140-dd5585369bc8"
   },
   "outputs": [
    {
     "name": "stdout",
     "output_type": "stream",
     "text": [
      "\n",
      "Accuracy in testing set by sklearn model: 0.9278846153846154\n"
     ]
    }
   ],
   "source": [
    "# Print Accuracy on testing set\n",
    "sklearn_test_accuracy = accuracy_score(y_test, y_pred)\n",
    "\n",
    "print(f\"\\nAccuracy in testing set by sklearn model: {sklearn_test_accuracy}\")"
   ]
  }
 ],
 "metadata": {
  "colab": {
   "collapsed_sections": [],
   "name": "task_2_logistic_diabetes.ipynb",
   "provenance": []
  },
  "kernelspec": {
   "display_name": "Python 3",
   "language": "python",
   "name": "python3"
  },
  "language_info": {
   "codemirror_mode": {
    "name": "ipython",
    "version": 3
   },
   "file_extension": ".py",
   "mimetype": "text/x-python",
   "name": "python",
   "nbconvert_exporter": "python",
   "pygments_lexer": "ipython3",
   "version": "3.7.3"
  },
  "toc": {
   "base_numbering": 1,
   "nav_menu": {},
   "number_sections": true,
   "sideBar": true,
   "skip_h1_title": false,
   "title_cell": "Table of Contents",
   "title_sidebar": "Contents",
   "toc_cell": false,
   "toc_position": {},
   "toc_section_display": true,
   "toc_window_display": false
  }
 },
 "nbformat": 4,
 "nbformat_minor": 0
}
