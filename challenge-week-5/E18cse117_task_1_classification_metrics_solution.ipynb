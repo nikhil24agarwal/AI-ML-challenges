{
 "cells": [
  {
   "cell_type": "markdown",
   "metadata": {},
   "source": [
    "## Classification metrics\n",
    "\n",
    "Choosing right evaluation metrics for the problem is one of the most important aspect of machine learning. Choice of metrics allows us to compare performance of different models and helps in model selection.\n",
    "\n",
    "In this task, we will explore following metrics:\n",
    "- confusion matrix\n",
    "- accuracy\n",
    "- precision\n",
    "- recall\n",
    "- f1 score\n",
    "\n",
    "#### Dataset\n",
    "The training dataset is available at \"data/ozone_levels_train.csv\" in the respective challenge' repo.<br>\n",
    "The testing dataset is available at \"data/ozone_levels_test.csv\" in the respective challenge' repo.<br>\n",
    "\n",
    "The dataset is __modified version__ of the dataset 'ozone level' on provided by UCI Machine Learning repository.\n",
    "\n",
    "Original dataset: https://archive.ics.uci.edu/ml/datasets/Ozone+Level+Detection\n",
    "\n",
    "#### Objective\n",
    "To learn about classification metrics and compare logistic regression and decision tree on the same dataset\n",
    "\n",
    "#### Tasks\n",
    "- define X(input) and Y(output)\n",
    "- train the decision tree model \n",
    "- train the logistic model\n",
    "- construct a confusion matrix\n",
    "- calculate the classification accurace\n",
    "- calculate the Precision\n",
    "- calculate the Recall\n",
    "- calculate the F1 score\n",
    "- calculate Area Under ROC Curve\n",
    "\n",
    "#### Further fun\n",
    "- Calculate precission and recall\n",
    "- find the area under the curve for Roc metrics\n",
    "- impliment below metrics using inbuilt librarires\n",
    "        confusion matrix\n",
    "        accuracy\n",
    "        precision\n",
    "        recall\n",
    "        f1 score\n",
    "\n",
    "\n",
    "#### Helpful links\n",
    "- Classification metrics with google developers: https://developers.google.com/machine-learning/crash-course/classification/true-false-positive-negative\n",
    "- classification metrics: https://www.kdnuggets.com/2020/04/performance-evaluation-metrics-classification.html\n",
    "- pd.get_dummies() and One Hot Encoding: https://queirozf.com/entries/one-hot-encoding-a-feature-on-a-pandas-dataframe-an-example\n",
    "- Differences between Logistic Regression and a Decision Tree: https://www.geeksforgeeks.org/ml-logistic-regression-v-s-decision-tree-classification/\n",
    "- Decision Tree Classifier by Sklearn: https://scikit-learn.org/stable/modules/generated/sklearn.tree.DecisionTreeClassifier.html\n",
    "- Understanding classification metrics like Precision, Recall, F-Scores and Confusion matrices: https://nillsf.com/index.php/2020/05/23/confusion-matrix-accuracy-recall-precision-false-positive-rate-and-f-scores-explained/\n",
    "- Understanding the ROC Curve: https://developers.google.com/machine-learning/crash-course/classification/roc-and-auc\n",
    "- Use slack for doubts: https://join.slack.com/t/deepconnectai/shared_invite/zt-givlfnf6-~cn3SQ43k0BGDrG9_YOn4g"
   ]
  },
  {
   "cell_type": "code",
   "execution_count": 1,
   "metadata": {},
   "outputs": [],
   "source": [
    "import pandas as pd\n",
    "import numpy as np\n",
    "import matplotlib.pyplot as plt\n",
    "import seaborn as sns\n",
    "from sklearn.linear_model import LogisticRegression\n",
    "from sklearn.tree import DecisionTreeClassifier\n",
    "# Uncomment below 2 lines to ignore warnings\n",
    "# import warnings\n",
    "# warnings.filterwarnings('ignore')"
   ]
  },
  {
   "cell_type": "code",
   "execution_count": 2,
   "metadata": {},
   "outputs": [],
   "source": [
    "# Download data using wget if running on cloud\n",
    "# !wget https://github.com/DeepConnectAI/challenge-week-5/raw/master/data/ozone_levels_train.csv\n",
    "# !wget https://github.com/DeepConnectAI/challenge-week-5/raw/master/data/ozone_levels_test.csv"
   ]
  },
  {
   "cell_type": "code",
   "execution_count": 3,
   "metadata": {},
   "outputs": [],
   "source": [
    "# Load the train and test data\n",
    "test = pd.read_csv('ozone_levels_test.csv')\n",
    "train  = pd.read_csv('ozone_levels_train.csv')"
   ]
  },
  {
   "cell_type": "code",
   "execution_count": 5,
   "metadata": {},
   "outputs": [
    {
     "name": "stdout",
     "output_type": "stream",
     "text": [
      "<class 'pandas.core.frame.DataFrame'>\n",
      "RangeIndex: 1775 entries, 0 to 1774\n",
      "Data columns (total 73 columns):\n",
      "F_0      1775 non-null float64\n",
      "F_1      1775 non-null float64\n",
      "F_2      1775 non-null float64\n",
      "F_3      1775 non-null float64\n",
      "F_4      1775 non-null float64\n",
      "F_5      1775 non-null float64\n",
      "F_6      1775 non-null float64\n",
      "F_7      1775 non-null float64\n",
      "F_8      1775 non-null float64\n",
      "F_9      1775 non-null float64\n",
      "F_10     1775 non-null float64\n",
      "F_11     1775 non-null float64\n",
      "F_12     1775 non-null float64\n",
      "F_13     1775 non-null float64\n",
      "F_14     1775 non-null float64\n",
      "F_15     1775 non-null float64\n",
      "F_16     1775 non-null float64\n",
      "F_17     1775 non-null float64\n",
      "F_18     1775 non-null float64\n",
      "F_19     1775 non-null float64\n",
      "F_20     1775 non-null float64\n",
      "F_21     1775 non-null float64\n",
      "F_22     1775 non-null float64\n",
      "F_23     1775 non-null float64\n",
      "F_24     1775 non-null float64\n",
      "F_25     1775 non-null float64\n",
      "F_26     1775 non-null float64\n",
      "F_27     1775 non-null float64\n",
      "F_28     1775 non-null float64\n",
      "F_29     1775 non-null float64\n",
      "F_30     1775 non-null float64\n",
      "F_31     1775 non-null float64\n",
      "F_32     1775 non-null float64\n",
      "F_33     1775 non-null float64\n",
      "F_34     1775 non-null float64\n",
      "F_35     1775 non-null float64\n",
      "F_36     1775 non-null float64\n",
      "F_37     1775 non-null float64\n",
      "F_38     1775 non-null float64\n",
      "F_39     1775 non-null float64\n",
      "F_40     1775 non-null float64\n",
      "F_41     1775 non-null float64\n",
      "F_42     1775 non-null float64\n",
      "F_43     1775 non-null float64\n",
      "F_44     1775 non-null float64\n",
      "F_45     1775 non-null float64\n",
      "F_46     1775 non-null float64\n",
      "F_47     1775 non-null float64\n",
      "F_48     1775 non-null float64\n",
      "F_49     1775 non-null float64\n",
      "F_50     1775 non-null float64\n",
      "F_51     1775 non-null float64\n",
      "F_52     1775 non-null float64\n",
      "F_53     1775 non-null float64\n",
      "F_54     1775 non-null float64\n",
      "F_55     1775 non-null float64\n",
      "F_56     1775 non-null float64\n",
      "F_57     1775 non-null float64\n",
      "F_58     1775 non-null float64\n",
      "F_59     1775 non-null float64\n",
      "F_60     1775 non-null float64\n",
      "F_61     1775 non-null float64\n",
      "F_62     1775 non-null float64\n",
      "F_63     1775 non-null float64\n",
      "F_64     1775 non-null float64\n",
      "F_65     1775 non-null float64\n",
      "F_66     1775 non-null float64\n",
      "F_67     1775 non-null float64\n",
      "F_68     1775 non-null float64\n",
      "F_69     1775 non-null float64\n",
      "F_70     1775 non-null float64\n",
      "F_71     1775 non-null float64\n",
      "class    1775 non-null float64\n",
      "dtypes: float64(73)\n",
      "memory usage: 1012.4 KB\n"
     ]
    }
   ],
   "source": [
    "# Explore train dataset\n",
    "train.info() \n"
   ]
  },
  {
   "cell_type": "code",
   "execution_count": 6,
   "metadata": {},
   "outputs": [
    {
     "data": {
      "text/plain": [
       "<matplotlib.axes._subplots.AxesSubplot at 0x1df227cc5c0>"
      ]
     },
     "execution_count": 6,
     "metadata": {},
     "output_type": "execute_result"
    },
    {
     "data": {
      "image/png": "[encoded data removed]",
      "text/plain": [
       "<Figure size 432x288 with 1 Axes>"
      ]
     },
     "metadata": {},
     "output_type": "display_data"
    }
   ],
   "source": [
    "sns.countplot(x='class',data=train)"
   ]
  },
  {
   "cell_type": "code",
   "execution_count": 7,
   "metadata": {},
   "outputs": [
    {
     "data": {
      "text/plain": [
       "<matplotlib.axes._subplots.AxesSubplot at 0x1df22b23eb8>"
      ]
     },
     "execution_count": 7,
     "metadata": {},
     "output_type": "execute_result"
    },
    {
     "data": {
      "image/png": "[encoded data removed]",
      "text/plain": [
       "<Figure size 432x288 with 1 Axes>"
      ]
     },
     "metadata": {},
     "output_type": "display_data"
    }
   ],
   "source": [
    "# Explore test dataset\n",
    "sns.countplot(x='class',data=test)"
   ]
  },
  {
   "cell_type": "code",
   "execution_count": 29,
   "metadata": {},
   "outputs": [],
   "source": [
    "# Define X and y\n",
    "X_train = train.iloc[:,:-1]\n",
    "X_test  = test.iloc[:,:-1]\n",
    "y_train = train.iloc[:,-1:-2:-1]\n",
    "y_test  = test.iloc[:,-1:-2:-1]"
   ]
  },
  {
   "cell_type": "code",
   "execution_count": 30,
   "metadata": {},
   "outputs": [
    {
     "name": "stdout",
     "output_type": "stream",
     "text": [
      "(1775, 72)\n",
      "(761, 72)\n",
      "(1775, 1)\n",
      "(761, 1)\n"
     ]
    }
   ],
   "source": [
    "# Print shape of X_train, X_test, y_train, y_test\n",
    "print(X_train.shape)\n",
    "print(X_test.shape)\n",
    "print(y_train.shape)\n",
    "print(y_test.shape)\n"
   ]
  },
  {
   "cell_type": "code",
   "execution_count": 31,
   "metadata": {},
   "outputs": [],
   "source": [
    "# Initialize the models\n",
    "# Classifier 1 - Logistic regression\n",
    "clf1 = LogisticRegression(max_iter=100000)\n",
    "# Classifier 2 - Decision tree\n",
    "clf2 = DecisionTreeClassifier()"
   ]
  },
  {
   "cell_type": "code",
   "execution_count": 32,
   "metadata": {},
   "outputs": [
    {
     "name": "stderr",
     "output_type": "stream",
     "text": [
      "C:\\Users\\Hp\\AppData\\Local\\Continuum\\anaconda3\\lib\\site-packages\\sklearn\\utils\\validation.py:73: DataConversionWarning: A column-vector y was passed when a 1d array was expected. Please change the shape of y to (n_samples, ), for example using ravel().\n",
      "  return f(**kwargs)\n"
     ]
    },
    {
     "data": {
      "text/plain": [
       "DecisionTreeClassifier()"
      ]
     },
     "execution_count": 32,
     "metadata": {},
     "output_type": "execute_result"
    }
   ],
   "source": [
    "# Train both the models on training dataset\n",
    "clf1.fit(X_train,y_train)\n",
    "clf2.fit(X_train,y_train)"
   ]
  },
  {
   "cell_type": "code",
   "execution_count": 33,
   "metadata": {},
   "outputs": [],
   "source": [
    "# Predict on testing data\n",
    "y_pred_lr = clf1.predict(X_test)\n",
    "y_pred_dt = clf2.predict(X_test)"
   ]
  },
  {
   "cell_type": "code",
   "execution_count": 34,
   "metadata": {},
   "outputs": [],
   "source": [
    "y_test=y_test.values"
   ]
  },
  {
   "cell_type": "code",
   "execution_count": null,
   "metadata": {},
   "outputs": [],
   "source": []
  },
  {
   "cell_type": "markdown",
   "metadata": {},
   "source": [
    "### Primary building blocks of classification metrics\n",
    "\n",
    "A __TRUE POSITIVE (TP)__ is an outcome where the model correctly predicts the positive class.\n",
    "\n",
    "A __TRUE NEGATIVE (TN)__ is an outcome where the model correctly predicts the negative class.\n",
    "\n",
    "A __FALSE POSITIVE (FP)__ is an outcome where the model incorrectly predicts the positive class.\n",
    "\n",
    "a __FALSE NEGATIVE (FN)__ is an outcome where the model incorrectly predicts the negative class."
   ]
  },
  {
   "cell_type": "code",
   "execution_count": 35,
   "metadata": {},
   "outputs": [],
   "source": [
    "# tp=0\n",
    "# tn=0\n",
    "# fp=0\n",
    "# fn=0\n",
    "# for i in range(0,761):\n",
    "#     if(y_pred_lr[i]==1 and y_test[i][0]==1):\n",
    "#         tp+=1\n",
    "#     elif(y_pred_lr[i]==0 and y_test[i][0]==0):\n",
    "#         tn+=1\n",
    "#     elif(y_pred_lr[i]==0 and y_test[i][0]==1):\n",
    "#         fp+=1\n",
    "#     elif(y_pred_lr[i]==1 and y_test[i][0]==0):\n",
    "#         fn+=1\n",
    "\n",
    "# print(tp,tn,fp,fn)"
   ]
  },
  {
   "cell_type": "code",
   "execution_count": 36,
   "metadata": {},
   "outputs": [
    {
     "name": "stdout",
     "output_type": "stream",
     "text": [
      "3 730 10 18\n"
     ]
    }
   ],
   "source": [
    "tp=0\n",
    "tn=0\n",
    "fp=0\n",
    "fn=0\n",
    "for i in range(0,761):\n",
    "    if(y_pred_lr[i]==1 and y_test[i][0]==1):\n",
    "        tp+=1\n",
    "    elif(y_pred_lr[i]==0 and y_test[i][0]==0):\n",
    "        tn+=1\n",
    "    elif(y_pred_lr[i]==0 and y_test[i][0]==1):\n",
    "        fn+=1\n",
    "    elif(y_pred_lr[i]==1 and y_test[i][0]==0):\n",
    "        fp+=1\n",
    "\n",
    "# Compute primary metrics for logisitc regression\n",
    "# NOTE: All metrics are to be calculated on test dataset\n",
    "# True Positive\n",
    "lr_true_positive = tp\n",
    "# True Negative\n",
    "lr_true_negative = tn\n",
    "# False Positive\n",
    "lr_false_positive = fp\n",
    "# False Negative\n",
    "lr_false_negative = fn\n",
    "\n",
    "print(tp,tn,fp,fn)"
   ]
  },
  {
   "cell_type": "code",
   "execution_count": 37,
   "metadata": {},
   "outputs": [
    {
     "name": "stdout",
     "output_type": "stream",
     "text": [
      "4 709 31 17\n"
     ]
    }
   ],
   "source": [
    "tp=0\n",
    "tn=0\n",
    "fp=0\n",
    "fn=0\n",
    "for i in range(0,761):\n",
    "    if(y_pred_dt[i]==1 and y_test[i][0]==1):\n",
    "        tp+=1\n",
    "    elif(y_pred_dt[i]==0 and y_test[i][0]==0):\n",
    "        tn+=1\n",
    "    elif(y_pred_dt[i]==0 and y_test[i][0]==1):\n",
    "        fn+=1\n",
    "    elif(y_pred_dt[i]==1 and y_test[i][0]==0):\n",
    "        fp+=1\n",
    "\n",
    "# Compute primary metrics for decision tree\n",
    "# True Positive\n",
    "dt_true_positive = tp\n",
    "# True Negative\n",
    "dt_true_negative = tn\n",
    "# False Positive\n",
    "dt_false_positive = fp\n",
    "# False Negative\n",
    "dt_false_negative = fn\n",
    "\n",
    "print(tp,tn,fp,fn)"
   ]
  },
  {
   "cell_type": "code",
   "execution_count": null,
   "metadata": {},
   "outputs": [],
   "source": []
  },
  {
   "cell_type": "markdown",
   "metadata": {},
   "source": [
    "### Confusion matrix\n",
    "A confusion matrix is visualization technique to summarize the basic performance of a classification algorithm.\n",
    "\n",
    "![Confusion matrix](https://static.packt-cdn.com/products/9781838555078/graphics/C13314_06_05.jpg \"Confusion matric diagram\")"
   ]
  },
  {
   "cell_type": "code",
   "execution_count": 38,
   "metadata": {},
   "outputs": [
    {
     "data": {
      "image/png": "[encoded data removed]",
      "text/plain": [
       "<Figure size 1800x576 with 4 Axes>"
      ]
     },
     "metadata": {},
     "output_type": "display_data"
    }
   ],
   "source": [
    "# Plot confusion matrix, DO NOT EDIT THE CELL\n",
    "fig, axes = plt.subplots(nrows=1, ncols=2, figsize=(25,8))\n",
    "\n",
    "plt.title(\"Confusion matrix for logistic regression\")\n",
    "sns.heatmap(np.array([[lr_true_negative, lr_false_positive],[lr_false_negative, lr_true_positive]]), annot=True, cmap=plt.cm.Blues, fmt='g', ax=axes[0])\n",
    "plt.title(\"Confusion matrix for decision tree\")\n",
    "sns.heatmap(np.array([[dt_true_negative, dt_false_positive],[dt_false_negative, dt_true_positive]]), annot=True, cmap=plt.cm.Blues, fmt='g', ax=axes[1])\n",
    "\n",
    "plt.show()"
   ]
  },
  {
   "cell_type": "markdown",
   "metadata": {},
   "source": [
    "### Accuracy \n",
    "Classification accuracy is simply the rate of correct classifications\n",
    "$$Accuracy = \\frac{Number \\, of \\, correct \\, predictions}{Total \\, number \\, of \\, predictions}$$\n",
    "<br>\n",
    "$$Accuracy = \\frac{TP + TN}{TP + TN + FP + FN}$$"
   ]
  },
  {
   "cell_type": "code",
   "execution_count": 39,
   "metadata": {},
   "outputs": [],
   "source": [
    "# Classification accuracy for logistic regression\n",
    "lr_accuracy = (lr_true_positive + lr_true_negative)/ 761 \n",
    "# Classification accuracy for decision tree\n",
    "dt_accuracy = (dt_true_positive+dt_true_negative)/761"
   ]
  },
  {
   "cell_type": "code",
   "execution_count": 40,
   "metadata": {},
   "outputs": [
    {
     "name": "stdout",
     "output_type": "stream",
     "text": [
      "Classificaton accuracy: LR =  0.9632063074901446\n",
      "Classificaton accuracy: DT =  0.9369250985545335\n"
     ]
    }
   ],
   "source": [
    "print(\"Classificaton accuracy: LR = \" , lr_accuracy)\n",
    "print(\"Classificaton accuracy: DT = \" , dt_accuracy)"
   ]
  },
  {
   "cell_type": "markdown",
   "metadata": {},
   "source": [
    "### Precision\n",
    "What proportion of positive identifications was actually correct?\n",
    "$$Precision = \\frac{TP}{TP+FP}$$"
   ]
  },
  {
   "cell_type": "code",
   "execution_count": 41,
   "metadata": {},
   "outputs": [],
   "source": [
    "# Precision for logistic regression\n",
    "try:\n",
    "    lr_precision = lr_true_positive / (lr_true_positive+lr_false_positive)\n",
    "except:\n",
    "    lr_precision = 0\n",
    "    print(\"If you see this message, it means that the\\ndenominator of precision for logistic regression turned out to be 0 \")\n",
    "# Precision for decision tree\n",
    "try:\n",
    "    dt_precision = dt_true_positive / (dt_true_positive+dt_false_positive)\n",
    "except:\n",
    "    dt_precision = 0\n",
    "    print(\"If you see this message, it means that the\\ndenominator of precision for decision tree turned out to be 0 \")"
   ]
  },
  {
   "cell_type": "code",
   "execution_count": 42,
   "metadata": {},
   "outputs": [
    {
     "name": "stdout",
     "output_type": "stream",
     "text": [
      "Precision: LR =  0.23076923076923078\n",
      "Precision: DT =  0.11428571428571428\n"
     ]
    }
   ],
   "source": [
    "print(\"Precision: LR = \" , lr_precision)\n",
    "print(\"Precision: DT = \" , dt_precision)"
   ]
  },
  {
   "cell_type": "markdown",
   "metadata": {},
   "source": [
    "### Recall\n",
    "What proportion of actual positives was identified correctly?\n",
    "$$Recall = \\frac{TP}{TP+FN}$$"
   ]
  },
  {
   "cell_type": "code",
   "execution_count": 43,
   "metadata": {},
   "outputs": [],
   "source": [
    "# Recall for logistic regression\n",
    "try:\n",
    "    lr_recall = lr_true_positive / (lr_true_positive+lr_false_negative)\n",
    "except:\n",
    "    lr_recall = 0\n",
    "    print(\"If you see this message, it means that the\\ndenominator of recall for logistic regression turned out to be 0 \")\n",
    "# Recall for decision tree\n",
    "try:\n",
    "    dt_recall =  dt_true_positive / (dt_true_positive+dt_false_negative)\n",
    "except:\n",
    "    dt_recall = 0\n",
    "    print(\"If you see this message, it means that the\\ndenominator of recall for decision tree turned out to be 0 \")"
   ]
  },
  {
   "cell_type": "code",
   "execution_count": 44,
   "metadata": {},
   "outputs": [
    {
     "name": "stdout",
     "output_type": "stream",
     "text": [
      "Recall: LR =  0.14285714285714285\n",
      "Recall: DT =  0.19047619047619047\n"
     ]
    }
   ],
   "source": [
    "print(\"Recall: LR = \" , lr_recall)\n",
    "print(\"Recall: DT = \" , dt_recall)"
   ]
  },
  {
   "cell_type": "markdown",
   "metadata": {},
   "source": [
    "### F1 score\n",
    "The F1 score can be interpreted as a weighted average of the precision and recall, where an F1 score reaches its best value at 1 and worst score at 0. The relative contribution of precision and recall to the F1 score are equal.\n",
    "$$ F1 \\, score = \\frac{2* Precision * Recall}{Precision + Recall}$$"
   ]
  },
  {
   "cell_type": "code",
   "execution_count": 45,
   "metadata": {},
   "outputs": [],
   "source": [
    "# F1 score for logistic regression\n",
    "try:\n",
    "    lr_f1_score = (2*lr_precision*lr_recall)/(lr_precision+lr_recall)\n",
    "except:\n",
    "    lr_f1_score=0\n",
    "    print('Because its going to infinity')\n",
    "# F1 score for decision tree\n",
    "dt_f1_score = (2*dt_precision*dt_recall)/ (dt_precision+dt_recall)"
   ]
  },
  {
   "cell_type": "code",
   "execution_count": 46,
   "metadata": {},
   "outputs": [
    {
     "name": "stdout",
     "output_type": "stream",
     "text": [
      "F1 score: LR =  0.17647058823529413\n",
      "F1 score: DT =  0.14285714285714285\n"
     ]
    }
   ],
   "source": [
    "print(\"F1 score: LR = \" , lr_f1_score)\n",
    "print(\"F1 score: DT = \" , dt_f1_score)"
   ]
  },
  {
   "cell_type": "markdown",
   "metadata": {},
   "source": [
    "### Area Under ROC Curve\n",
    "A ROC Curve is a plot of the true positive rate and the false positive rate for a given set of probability predictions at different thresholds used to map the probabilities to class labels. The area under the curve is then the approximate integral under the ROC Curve."
   ]
  },
  {
   "cell_type": "code",
   "execution_count": 47,
   "metadata": {},
   "outputs": [],
   "source": [
    "def roc(model,thresh, y_test):\n",
    "    proba = model.predict_proba(X_test)\n",
    "    y_pred = np.where( proba[:,1] >= thresh, 1, 0)   #[:,1] so that we take value of only 1's probability \n",
    "    # True Positive\n",
    "    tp = np.count_nonzero(np.where((y_pred == 1) & (y_test==1), 1,0))\n",
    "    # True Negative\n",
    "    tn = np.count_nonzero(np.where((y_pred == 0) & (y_test==0), 1,0))\n",
    "    # False Positive\n",
    "    fp = np.count_nonzero(np.where((y_pred == 1) & (y_test==0), 1,0))\n",
    "    # False Negative\n",
    "    fn = np.count_nonzero(np.where((y_pred == 0) & (y_test==1), 1,0))\n",
    "    \n",
    "    #false positive rate\n",
    "    try:\n",
    "        fpr = fp / (fp + tn)\n",
    "    except:\n",
    "        fpr = 0\n",
    "        \n",
    "    #true positive rate\n",
    "    try:\n",
    "        tpr = tp / (tp + fn)\n",
    "    except:\n",
    "        tpr = 0\n",
    "        \n",
    "#     print(tp,tn,fn,fp,tpr,fpr)\n",
    "\n",
    "    return fpr, tpr\n"
   ]
  },
  {
   "cell_type": "code",
   "execution_count": 48,
   "metadata": {},
   "outputs": [],
   "source": [
    "lr_fp_rate = []\n",
    "lr_tp_rate = []\n",
    "dt_fp_rate = []\n",
    "dt_tp_rate = []\n",
    "i = 0 \n",
    "\n",
    "while True:\n",
    "    lrfp, lrtp = roc(clf1, i, y_test)\n",
    "    lr_fp_rate.append(lrfp)\n",
    "    lr_tp_rate.append(lrtp)\n",
    "    if(i >= 1):\n",
    "        break\n",
    "#     print(i)\n",
    "    dtfp, dttp = roc(clf2, i, y_test)\n",
    "    dt_fp_rate.append(dtfp)\n",
    "    dt_tp_rate.append(dttp)\n",
    "    \n",
    "    i += 0.001\n",
    "dt_tp_rate.append(0)\n",
    "dt_fp_rate.append(0)"
   ]
  },
  {
   "cell_type": "code",
   "execution_count": 49,
   "metadata": {},
   "outputs": [
    {
     "data": {
      "image/png": "[encoded data removed]",
      "text/plain": [
       "<Figure size 432x288 with 1 Axes>"
      ]
     },
     "metadata": {},
     "output_type": "display_data"
    }
   ],
   "source": [
    "plt.plot(lr_fp_rate ,lr_tp_rate, label='Logistic')\n",
    "plt.plot(dt_fp_rate ,dt_tp_rate, label='Decision')\n",
    "plt.xlabel('False Positive Rate')\n",
    "plt.ylabel('True Positive Rate')\n",
    "plt.legend()\n",
    "plt.show()"
   ]
  },
  {
   "cell_type": "code",
   "execution_count": null,
   "metadata": {},
   "outputs": [],
   "source": []
  }
 ],
 "metadata": {
  "kernelspec": {
   "display_name": "Python 3",
   "language": "python",
   "name": "python3"
  },
  "language_info": {
   "codemirror_mode": {
    "name": "ipython",
    "version": 3
   },
   "file_extension": ".py",
   "mimetype": "text/x-python",
   "name": "python",
   "nbconvert_exporter": "python",
   "pygments_lexer": "ipython3",
   "version": "3.6.5"
  },
  "toc": {
   "base_numbering": 1,
   "nav_menu": {},
   "number_sections": true,
   "sideBar": true,
   "skip_h1_title": false,
   "title_cell": "Table of Contents",
   "title_sidebar": "Contents",
   "toc_cell": false,
   "toc_position": {},
   "toc_section_display": true,
   "toc_window_display": false
  }
 },
 "nbformat": 4,
 "nbformat_minor": 4
}
