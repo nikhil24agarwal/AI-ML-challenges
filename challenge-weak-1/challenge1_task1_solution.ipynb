{
  "nbformat": 4,
  "nbformat_minor": 0,
  "metadata": {
    "colab": {
      "name": "challenge1_task1_solution.ipynb",
      "provenance": []
    },
    "kernelspec": {
      "name": "python3",
      "display_name": "Python 3"
    }
  },
  "cells": [
    {
      "cell_type": "code",
      "metadata": {
        "id": "g4uUPovbsbvN",
        "colab_type": "code",
        "colab": {
          "base_uri": "https://localhost:8080/",
          "height": 35
        },
        "outputId": "c40044cc-3327-416e-a5e8-26f2cc55d530"
      },
      "source": [
        "pwd"
      ],
      "execution_count": null,
      "outputs": [
        {
          "output_type": "execute_result",
          "data": {
            "application/vnd.google.colaboratory.intrinsic+json": {
              "type": "string"
            },
            "text/plain": [
              "'/content'"
            ]
          },
          "metadata": {
            "tags": []
          },
          "execution_count": 1
        }
      ]
    },
    {
      "cell_type": "code",
      "metadata": {
        "id": "WASqS9kN9GmO",
        "colab_type": "code",
        "colab": {
          "base_uri": "https://localhost:8080/",
          "height": 134
        },
        "outputId": "724a7cce-bbcb-4f4d-d240-5f406e911121"
      },
      "source": [
        "!git clone https://github.com/nikhil24agarwal/challenge-week-1.git"
      ],
      "execution_count": null,
      "outputs": [
        {
          "output_type": "stream",
          "text": [
            "Cloning into 'challenge-week-1'...\n",
            "remote: Enumerating objects: 95, done.\u001b[K\n",
            "remote: Counting objects:   1% (1/95)\u001b[K\rremote: Counting objects:   2% (2/95)\u001b[K\rremote: Counting objects:   3% (3/95)\u001b[K\rremote: Counting objects:   4% (4/95)\u001b[K\rremote: Counting objects:   5% (5/95)\u001b[K\rremote: Counting objects:   6% (6/95)\u001b[K\rremote: Counting objects:   7% (7/95)\u001b[K\rremote: Counting objects:   8% (8/95)\u001b[K\rremote: Counting objects:   9% (9/95)\u001b[K\rremote: Counting objects:  10% (10/95)\u001b[K\rremote: Counting objects:  11% (11/95)\u001b[K\rremote: Counting objects:  12% (12/95)\u001b[K\rremote: Counting objects:  13% (13/95)\u001b[K\rremote: Counting objects:  14% (14/95)\u001b[K\rremote: Counting objects:  15% (15/95)\u001b[K\rremote: Counting objects:  16% (16/95)\u001b[K\rremote: Counting objects:  17% (17/95)\u001b[K\rremote: Counting objects:  18% (18/95)\u001b[K\rremote: Counting objects:  20% (19/95)\u001b[K\rremote: Counting objects:  21% (20/95)\u001b[K\rremote: Counting objects:  22% (21/95)\u001b[K\rremote: Counting objects:  23% (22/95)\u001b[K\rremote: Counting objects:  24% (23/95)\u001b[K\rremote: Counting objects:  25% (24/95)\u001b[K\rremote: Counting objects:  26% (25/95)\u001b[K\rremote: Counting objects:  27% (26/95)\u001b[K\rremote: Counting objects:  28% (27/95)\u001b[K\rremote: Counting objects:  29% (28/95)\u001b[K\rremote: Counting objects:  30% (29/95)\u001b[K\rremote: Counting objects:  31% (30/95)\u001b[K\rremote: Counting objects:  32% (31/95)\u001b[K\rremote: Counting objects:  33% (32/95)\u001b[K\rremote: Counting objects:  34% (33/95)\u001b[K\rremote: Counting objects:  35% (34/95)\u001b[K\rremote: Counting objects:  36% (35/95)\u001b[K\rremote: Counting objects:  37% (36/95)\u001b[K\rremote: Counting objects:  38% (37/95)\u001b[K\rremote: Counting objects:  40% (38/95)\u001b[K\rremote: Counting objects:  41% (39/95)\u001b[K\rremote: Counting objects:  42% (40/95)\u001b[K\rremote: Counting objects:  43% (41/95)\u001b[K\rremote: Counting objects:  44% (42/95)\u001b[K\rremote: Counting objects:  45% (43/95)\u001b[K\rremote: Counting objects:  46% (44/95)\u001b[K\rremote: Counting objects:  47% (45/95)\u001b[K\rremote: Counting objects:  48% (46/95)\u001b[K\rremote: Counting objects:  49% (47/95)\u001b[K\rremote: Counting objects:  50% (48/95)\u001b[K\rremote: Counting objects:  51% (49/95)\u001b[K\rremote: Counting objects:  52% (50/95)\u001b[K\rremote: Counting objects:  53% (51/95)\u001b[K\rremote: Counting objects:  54% (52/95)\u001b[K\rremote: Counting objects:  55% (53/95)\u001b[K\rremote: Counting objects:  56% (54/95)\u001b[K\rremote: Counting objects:  57% (55/95)\u001b[K\rremote: Counting objects:  58% (56/95)\u001b[K\rremote: Counting objects:  60% (57/95)\u001b[K\rremote: Counting objects:  61% (58/95)\u001b[K\rremote: Counting objects:  62% (59/95)\u001b[K\rremote: Counting objects:  63% (60/95)\u001b[K\rremote: Counting objects:  64% (61/95)\u001b[K\rremote: Counting objects:  65% (62/95)\u001b[K\rremote: Counting objects:  66% (63/95)\u001b[K\rremote: Counting objects:  67% (64/95)\u001b[K\rremote: Counting objects:  68% (65/95)\u001b[K\rremote: Counting objects:  69% (66/95)\u001b[K\rremote: Counting objects:  70% (67/95)\u001b[K\rremote: Counting objects:  71% (68/95)\u001b[K\rremote: Counting objects:  72% (69/95)\u001b[K\rremote: Counting objects:  73% (70/95)\u001b[K\rremote: Counting objects:  74% (71/95)\u001b[K\rremote: Counting objects:  75% (72/95)\u001b[K\rremote: Counting objects:  76% (73/95)\u001b[K\rremote: Counting objects:  77% (74/95)\u001b[K\rremote: Counting objects:  78% (75/95)\u001b[K\rremote: Counting objects:  80% (76/95)\u001b[K\rremote: Counting objects:  81% (77/95)\u001b[K\rremote: Counting objects:  82% (78/95)\u001b[K\rremote: Counting objects:  83% (79/95)\u001b[K\rremote: Counting objects:  84% (80/95)\u001b[K\rremote: Counting objects:  85% (81/95)\u001b[K\rremote: Counting objects:  86% (82/95)\u001b[K\rremote: Counting objects:  87% (83/95)\u001b[K\rremote: Counting objects:  88% (84/95)\u001b[K\rremote: Counting objects:  89% (85/95)\u001b[K\rremote: Counting objects:  90% (86/95)\u001b[K\rremote: Counting objects:  91% (87/95)\u001b[K\rremote: Counting objects:  92% (88/95)\u001b[K\rremote: Counting objects:  93% (89/95)\u001b[K\rremote: Counting objects:  94% (90/95)\u001b[K\rremote: Counting objects:  95% (91/95)\u001b[K\rremote: Counting objects:  96% (92/95)\u001b[K\rremote: Counting objects:  97% (93/95)\u001b[K\rremote: Counting objects:  98% (94/95)\u001b[K\rremote: Counting objects: 100% (95/95)\u001b[K\rremote: Counting objects: 100% (95/95), done.\u001b[K\n",
            "remote: Compressing objects: 100% (83/83), done.\u001b[K\n",
            "remote: Total 137 (delta 39), reused 37 (delta 11), pack-reused 42\u001b[K\n",
            "Receiving objects: 100% (137/137), 223.20 MiB | 45.31 MiB/s, done.\n",
            "Resolving deltas: 100% (42/42), done.\n"
          ],
          "name": "stdout"
        }
      ]
    },
    {
      "cell_type": "code",
      "metadata": {
        "id": "PQd9bCtlssEv",
        "colab_type": "code",
        "colab": {
          "base_uri": "https://localhost:8080/",
          "height": 34
        },
        "outputId": "36c38696-3f33-4951-f2b9-81a9d645fcb4"
      },
      "source": [
        "cd challenge-week-1/data"
      ],
      "execution_count": null,
      "outputs": [
        {
          "output_type": "stream",
          "text": [
            "/content/challenge-week-1/data\n"
          ],
          "name": "stdout"
        }
      ]
    },
    {
      "cell_type": "code",
      "metadata": {
        "id": "R-RJ-z-3tNU_",
        "colab_type": "code",
        "colab": {
          "base_uri": "https://localhost:8080/",
          "height": 34
        },
        "outputId": "93e90873-892a-43a1-ff5b-ab61c6b3642a"
      },
      "source": [
        "\n",
        "!ls"
      ],
      "execution_count": null,
      "outputs": [
        {
          "output_type": "stream",
          "text": [
            "dicom_images  rgb_images  structured_data  videos\n"
          ],
          "name": "stdout"
        }
      ]
    },
    {
      "cell_type": "code",
      "metadata": {
        "id": "9ryfm1ZqtObd",
        "colab_type": "code",
        "colab": {
          "base_uri": "https://localhost:8080/",
          "height": 34
        },
        "outputId": "5d78af3a-1b66-43ff-d887-a232fd495f63"
      },
      "source": [
        "cd structured_data/"
      ],
      "execution_count": null,
      "outputs": [
        {
          "output_type": "stream",
          "text": [
            "/content/challenge-week-1/data/structured_data\n"
          ],
          "name": "stdout"
        }
      ]
    },
    {
      "cell_type": "code",
      "metadata": {
        "id": "cj7UnFy_tSll",
        "colab_type": "code",
        "colab": {
          "base_uri": "https://localhost:8080/",
          "height": 34
        },
        "outputId": "3ae4a9bd-6981-4634-ba25-a24b66f172aa"
      },
      "source": [
        "!ls"
      ],
      "execution_count": null,
      "outputs": [
        {
          "output_type": "stream",
          "text": [
            "data.csv\n"
          ],
          "name": "stdout"
        }
      ]
    },
    {
      "cell_type": "code",
      "metadata": {
        "id": "lwlYaggRtTGb",
        "colab_type": "code",
        "colab": {}
      },
      "source": [
        "import pandas as pd"
      ],
      "execution_count": null,
      "outputs": []
    },
    {
      "cell_type": "code",
      "metadata": {
        "id": "t0RVK8BJtYyU",
        "colab_type": "code",
        "colab": {}
      },
      "source": [
        "a=pd.read_csv('data.csv')"
      ],
      "execution_count": null,
      "outputs": []
    },
    {
      "cell_type": "code",
      "metadata": {
        "id": "qN4iXkwz0Pir",
        "colab_type": "code",
        "colab": {}
      },
      "source": [
        "cat=a[['Country','Purchased',\"Price Category Of Purchase\"]]"
      ],
      "execution_count": null,
      "outputs": []
    },
    {
      "cell_type": "code",
      "metadata": {
        "id": "om4_AGZWzGcg",
        "colab_type": "code",
        "colab": {}
      },
      "source": [
        "num=a[['Age','Salary']]"
      ],
      "execution_count": null,
      "outputs": []
    },
    {
      "cell_type": "code",
      "metadata": {
        "id": "5_Eg2ECjB0Jv",
        "colab_type": "code",
        "colab": {}
      },
      "source": [
        "# num=num.interpolate()\n",
        "# num"
      ],
      "execution_count": null,
      "outputs": []
    },
    {
      "cell_type": "code",
      "metadata": {
        "id": "DUUmA4vZ2okB",
        "colab_type": "code",
        "colab": {
          "base_uri": "https://localhost:8080/",
          "height": 34
        },
        "outputId": "e47eb46c-4d84-4036-f3e9-52ad7807f9f4"
      },
      "source": [
        "cat.columns"
      ],
      "execution_count": null,
      "outputs": [
        {
          "output_type": "execute_result",
          "data": {
            "text/plain": [
              "Index(['Country', 'Purchased', 'Price Category Of Purchase'], dtype='object')"
            ]
          },
          "metadata": {
            "tags": []
          },
          "execution_count": 12
        }
      ]
    },
    {
      "cell_type": "code",
      "metadata": {
        "id": "hpmNR_qT3EtH",
        "colab_type": "code",
        "colab": {
          "base_uri": "https://localhost:8080/",
          "height": 34
        },
        "outputId": "6bed5264-fb90-4b68-d067-7c558a383716"
      },
      "source": [
        "num.columns"
      ],
      "execution_count": null,
      "outputs": [
        {
          "output_type": "execute_result",
          "data": {
            "text/plain": [
              "Index(['Age', 'Salary'], dtype='object')"
            ]
          },
          "metadata": {
            "tags": []
          },
          "execution_count": 13
        }
      ]
    },
    {
      "cell_type": "code",
      "metadata": {
        "id": "oO6b0eGl55du",
        "colab_type": "code",
        "colab": {}
      },
      "source": [
        "# import math\n",
        "\n"
      ],
      "execution_count": null,
      "outputs": []
    },
    {
      "cell_type": "code",
      "metadata": {
        "id": "qA5h2eTN3GEt",
        "colab_type": "code",
        "colab": {}
      },
      "source": [
        "# num['Age']=num['Age'].fillna(math.ceil(num['Age'].mean()))\n",
        "# num['Salary']=num['Salary'].fillna(math.ceil(num['Salary'].mean()))\n"
      ],
      "execution_count": null,
      "outputs": []
    },
    {
      "cell_type": "code",
      "metadata": {
        "id": "mcIMcGiTwnjg",
        "colab_type": "code",
        "colab": {}
      },
      "source": [
        "a_new=a.interpolate().head(10)"
      ],
      "execution_count": null,
      "outputs": []
    },
    {
      "cell_type": "code",
      "metadata": {
        "id": "DYFtoeGRxQ59",
        "colab_type": "code",
        "colab": {
          "base_uri": "https://localhost:8080/",
          "height": 639
        },
        "outputId": "f1fa09cd-87a0-4804-8a46-8da7218b93a0"
      },
      "source": [
        "cat"
      ],
      "execution_count": null,
      "outputs": [
        {
          "output_type": "execute_result",
          "data": {
            "text/html": [
              "<div>\n",
              "<style scoped>\n",
              "    .dataframe tbody tr th:only-of-type {\n",
              "        vertical-align: middle;\n",
              "    }\n",
              "\n",
              "    .dataframe tbody tr th {\n",
              "        vertical-align: top;\n",
              "    }\n",
              "\n",
              "    .dataframe thead th {\n",
              "        text-align: right;\n",
              "    }\n",
              "</style>\n",
              "<table border=\"1\" class=\"dataframe\">\n",
              "  <thead>\n",
              "    <tr style=\"text-align: right;\">\n",
              "      <th></th>\n",
              "      <th>Country</th>\n",
              "      <th>Purchased</th>\n",
              "      <th>Price Category Of Purchase</th>\n",
              "    </tr>\n",
              "  </thead>\n",
              "  <tbody>\n",
              "    <tr>\n",
              "      <th>0</th>\n",
              "      <td>France</td>\n",
              "      <td>No</td>\n",
              "      <td>1</td>\n",
              "    </tr>\n",
              "    <tr>\n",
              "      <th>1</th>\n",
              "      <td>Spain</td>\n",
              "      <td>Yes</td>\n",
              "      <td>1</td>\n",
              "    </tr>\n",
              "    <tr>\n",
              "      <th>2</th>\n",
              "      <td>Germany</td>\n",
              "      <td>No</td>\n",
              "      <td>2</td>\n",
              "    </tr>\n",
              "    <tr>\n",
              "      <th>3</th>\n",
              "      <td>Spain</td>\n",
              "      <td>No</td>\n",
              "      <td>3</td>\n",
              "    </tr>\n",
              "    <tr>\n",
              "      <th>4</th>\n",
              "      <td>Germany</td>\n",
              "      <td>Yes</td>\n",
              "      <td>1</td>\n",
              "    </tr>\n",
              "    <tr>\n",
              "      <th>5</th>\n",
              "      <td>France</td>\n",
              "      <td>Yes</td>\n",
              "      <td>2</td>\n",
              "    </tr>\n",
              "    <tr>\n",
              "      <th>6</th>\n",
              "      <td>Spain</td>\n",
              "      <td>No</td>\n",
              "      <td>3</td>\n",
              "    </tr>\n",
              "    <tr>\n",
              "      <th>7</th>\n",
              "      <td>France</td>\n",
              "      <td>Yes</td>\n",
              "      <td>1</td>\n",
              "    </tr>\n",
              "    <tr>\n",
              "      <th>8</th>\n",
              "      <td>Germany</td>\n",
              "      <td>No</td>\n",
              "      <td>2</td>\n",
              "    </tr>\n",
              "    <tr>\n",
              "      <th>9</th>\n",
              "      <td>France</td>\n",
              "      <td>Yes</td>\n",
              "      <td>2</td>\n",
              "    </tr>\n",
              "    <tr>\n",
              "      <th>10</th>\n",
              "      <td>France</td>\n",
              "      <td>No</td>\n",
              "      <td>3</td>\n",
              "    </tr>\n",
              "    <tr>\n",
              "      <th>11</th>\n",
              "      <td>Germany</td>\n",
              "      <td>Yes</td>\n",
              "      <td>3</td>\n",
              "    </tr>\n",
              "    <tr>\n",
              "      <th>12</th>\n",
              "      <td>Germany</td>\n",
              "      <td>Yes</td>\n",
              "      <td>1</td>\n",
              "    </tr>\n",
              "    <tr>\n",
              "      <th>13</th>\n",
              "      <td>France</td>\n",
              "      <td>No</td>\n",
              "      <td>3</td>\n",
              "    </tr>\n",
              "    <tr>\n",
              "      <th>14</th>\n",
              "      <td>France</td>\n",
              "      <td>No</td>\n",
              "      <td>2</td>\n",
              "    </tr>\n",
              "    <tr>\n",
              "      <th>15</th>\n",
              "      <td>Germany</td>\n",
              "      <td>No</td>\n",
              "      <td>1</td>\n",
              "    </tr>\n",
              "    <tr>\n",
              "      <th>16</th>\n",
              "      <td>Germany</td>\n",
              "      <td>Yes</td>\n",
              "      <td>3</td>\n",
              "    </tr>\n",
              "    <tr>\n",
              "      <th>17</th>\n",
              "      <td>Germany</td>\n",
              "      <td>Yes</td>\n",
              "      <td>3</td>\n",
              "    </tr>\n",
              "    <tr>\n",
              "      <th>18</th>\n",
              "      <td>France</td>\n",
              "      <td>Yes</td>\n",
              "      <td>2</td>\n",
              "    </tr>\n",
              "    <tr>\n",
              "      <th>19</th>\n",
              "      <td>Germany</td>\n",
              "      <td>No</td>\n",
              "      <td>1</td>\n",
              "    </tr>\n",
              "  </tbody>\n",
              "</table>\n",
              "</div>"
            ],
            "text/plain": [
              "    Country Purchased  Price Category Of Purchase\n",
              "0    France        No                           1\n",
              "1     Spain       Yes                           1\n",
              "2   Germany        No                           2\n",
              "3     Spain        No                           3\n",
              "4   Germany       Yes                           1\n",
              "5    France       Yes                           2\n",
              "6     Spain        No                           3\n",
              "7    France       Yes                           1\n",
              "8   Germany        No                           2\n",
              "9    France       Yes                           2\n",
              "10   France        No                           3\n",
              "11  Germany       Yes                           3\n",
              "12  Germany       Yes                           1\n",
              "13   France        No                           3\n",
              "14   France        No                           2\n",
              "15  Germany        No                           1\n",
              "16  Germany       Yes                           3\n",
              "17  Germany       Yes                           3\n",
              "18   France       Yes                           2\n",
              "19  Germany        No                           1"
            ]
          },
          "metadata": {
            "tags": []
          },
          "execution_count": 17
        }
      ]
    },
    {
      "cell_type": "code",
      "metadata": {
        "id": "UhrA9ky5xm2V",
        "colab_type": "code",
        "colab": {}
      },
      "source": [
        "from sklearn.preprocessing import LabelEncoder,OneHotEncoder"
      ],
      "execution_count": null,
      "outputs": []
    },
    {
      "cell_type": "code",
      "metadata": {
        "id": "pbvbU5U533_U",
        "colab_type": "code",
        "colab": {
          "base_uri": "https://localhost:8080/",
          "height": 353
        },
        "outputId": "bbd849cc-52f3-4fa4-a880-3a334e1e6f23"
      },
      "source": [
        "z=cat.iloc[:,:].values\n",
        "z"
      ],
      "execution_count": null,
      "outputs": [
        {
          "output_type": "execute_result",
          "data": {
            "text/plain": [
              "array([['France', 'No', 1],\n",
              "       ['Spain', 'Yes', 1],\n",
              "       ['Germany', 'No', 2],\n",
              "       ['Spain', 'No', 3],\n",
              "       ['Germany', 'Yes', 1],\n",
              "       ['France', 'Yes', 2],\n",
              "       ['Spain', 'No', 3],\n",
              "       ['France', 'Yes', 1],\n",
              "       ['Germany', 'No', 2],\n",
              "       ['France', 'Yes', 2],\n",
              "       ['France', 'No', 3],\n",
              "       ['Germany', 'Yes', 3],\n",
              "       ['Germany', 'Yes', 1],\n",
              "       ['France', 'No', 3],\n",
              "       ['France', 'No', 2],\n",
              "       ['Germany', 'No', 1],\n",
              "       ['Germany', 'Yes', 3],\n",
              "       ['Germany', 'Yes', 3],\n",
              "       ['France', 'Yes', 2],\n",
              "       ['Germany', 'No', 1]], dtype=object)"
            ]
          },
          "metadata": {
            "tags": []
          },
          "execution_count": 19
        }
      ]
    },
    {
      "cell_type": "code",
      "metadata": {
        "id": "XFskNvz24kNc",
        "colab_type": "code",
        "colab": {}
      },
      "source": [
        "LabelEncoder_X=LabelEncoder()"
      ],
      "execution_count": null,
      "outputs": []
    },
    {
      "cell_type": "code",
      "metadata": {
        "id": "9fQrKxg94w0O",
        "colab_type": "code",
        "colab": {}
      },
      "source": [
        "z[:,0]=LabelEncoder_X.fit_transform(z[:,0])\n",
        "z[:,1]=LabelEncoder_X.fit_transform(z[:,1])"
      ],
      "execution_count": null,
      "outputs": []
    },
    {
      "cell_type": "code",
      "metadata": {
        "id": "Rh9S9ybQ41B_",
        "colab_type": "code",
        "colab": {
          "base_uri": "https://localhost:8080/",
          "height": 353
        },
        "outputId": "7a8a0040-55b2-4ef3-fcce-0418297d3cca"
      },
      "source": [
        "z"
      ],
      "execution_count": null,
      "outputs": [
        {
          "output_type": "execute_result",
          "data": {
            "text/plain": [
              "array([[0, 0, 1],\n",
              "       [2, 1, 1],\n",
              "       [1, 0, 2],\n",
              "       [2, 0, 3],\n",
              "       [1, 1, 1],\n",
              "       [0, 1, 2],\n",
              "       [2, 0, 3],\n",
              "       [0, 1, 1],\n",
              "       [1, 0, 2],\n",
              "       [0, 1, 2],\n",
              "       [0, 0, 3],\n",
              "       [1, 1, 3],\n",
              "       [1, 1, 1],\n",
              "       [0, 0, 3],\n",
              "       [0, 0, 2],\n",
              "       [1, 0, 1],\n",
              "       [1, 1, 3],\n",
              "       [1, 1, 3],\n",
              "       [0, 1, 2],\n",
              "       [1, 0, 1]], dtype=object)"
            ]
          },
          "metadata": {
            "tags": []
          },
          "execution_count": 22
        }
      ]
    },
    {
      "cell_type": "code",
      "metadata": {
        "id": "cap_5lH96ity",
        "colab_type": "code",
        "colab": {}
      },
      "source": [
        "zz=pd.DataFrame(z)"
      ],
      "execution_count": null,
      "outputs": []
    },
    {
      "cell_type": "code",
      "metadata": {
        "id": "MHACm6Z48sXC",
        "colab_type": "code",
        "colab": {
          "base_uri": "https://localhost:8080/",
          "height": 639
        },
        "outputId": "a4060b1d-f438-4ac6-b01c-6ab3d100148c"
      },
      "source": [
        "zz"
      ],
      "execution_count": null,
      "outputs": [
        {
          "output_type": "execute_result",
          "data": {
            "text/html": [
              "<div>\n",
              "<style scoped>\n",
              "    .dataframe tbody tr th:only-of-type {\n",
              "        vertical-align: middle;\n",
              "    }\n",
              "\n",
              "    .dataframe tbody tr th {\n",
              "        vertical-align: top;\n",
              "    }\n",
              "\n",
              "    .dataframe thead th {\n",
              "        text-align: right;\n",
              "    }\n",
              "</style>\n",
              "<table border=\"1\" class=\"dataframe\">\n",
              "  <thead>\n",
              "    <tr style=\"text-align: right;\">\n",
              "      <th></th>\n",
              "      <th>0</th>\n",
              "      <th>1</th>\n",
              "      <th>2</th>\n",
              "    </tr>\n",
              "  </thead>\n",
              "  <tbody>\n",
              "    <tr>\n",
              "      <th>0</th>\n",
              "      <td>0</td>\n",
              "      <td>0</td>\n",
              "      <td>1</td>\n",
              "    </tr>\n",
              "    <tr>\n",
              "      <th>1</th>\n",
              "      <td>2</td>\n",
              "      <td>1</td>\n",
              "      <td>1</td>\n",
              "    </tr>\n",
              "    <tr>\n",
              "      <th>2</th>\n",
              "      <td>1</td>\n",
              "      <td>0</td>\n",
              "      <td>2</td>\n",
              "    </tr>\n",
              "    <tr>\n",
              "      <th>3</th>\n",
              "      <td>2</td>\n",
              "      <td>0</td>\n",
              "      <td>3</td>\n",
              "    </tr>\n",
              "    <tr>\n",
              "      <th>4</th>\n",
              "      <td>1</td>\n",
              "      <td>1</td>\n",
              "      <td>1</td>\n",
              "    </tr>\n",
              "    <tr>\n",
              "      <th>5</th>\n",
              "      <td>0</td>\n",
              "      <td>1</td>\n",
              "      <td>2</td>\n",
              "    </tr>\n",
              "    <tr>\n",
              "      <th>6</th>\n",
              "      <td>2</td>\n",
              "      <td>0</td>\n",
              "      <td>3</td>\n",
              "    </tr>\n",
              "    <tr>\n",
              "      <th>7</th>\n",
              "      <td>0</td>\n",
              "      <td>1</td>\n",
              "      <td>1</td>\n",
              "    </tr>\n",
              "    <tr>\n",
              "      <th>8</th>\n",
              "      <td>1</td>\n",
              "      <td>0</td>\n",
              "      <td>2</td>\n",
              "    </tr>\n",
              "    <tr>\n",
              "      <th>9</th>\n",
              "      <td>0</td>\n",
              "      <td>1</td>\n",
              "      <td>2</td>\n",
              "    </tr>\n",
              "    <tr>\n",
              "      <th>10</th>\n",
              "      <td>0</td>\n",
              "      <td>0</td>\n",
              "      <td>3</td>\n",
              "    </tr>\n",
              "    <tr>\n",
              "      <th>11</th>\n",
              "      <td>1</td>\n",
              "      <td>1</td>\n",
              "      <td>3</td>\n",
              "    </tr>\n",
              "    <tr>\n",
              "      <th>12</th>\n",
              "      <td>1</td>\n",
              "      <td>1</td>\n",
              "      <td>1</td>\n",
              "    </tr>\n",
              "    <tr>\n",
              "      <th>13</th>\n",
              "      <td>0</td>\n",
              "      <td>0</td>\n",
              "      <td>3</td>\n",
              "    </tr>\n",
              "    <tr>\n",
              "      <th>14</th>\n",
              "      <td>0</td>\n",
              "      <td>0</td>\n",
              "      <td>2</td>\n",
              "    </tr>\n",
              "    <tr>\n",
              "      <th>15</th>\n",
              "      <td>1</td>\n",
              "      <td>0</td>\n",
              "      <td>1</td>\n",
              "    </tr>\n",
              "    <tr>\n",
              "      <th>16</th>\n",
              "      <td>1</td>\n",
              "      <td>1</td>\n",
              "      <td>3</td>\n",
              "    </tr>\n",
              "    <tr>\n",
              "      <th>17</th>\n",
              "      <td>1</td>\n",
              "      <td>1</td>\n",
              "      <td>3</td>\n",
              "    </tr>\n",
              "    <tr>\n",
              "      <th>18</th>\n",
              "      <td>0</td>\n",
              "      <td>1</td>\n",
              "      <td>2</td>\n",
              "    </tr>\n",
              "    <tr>\n",
              "      <th>19</th>\n",
              "      <td>1</td>\n",
              "      <td>0</td>\n",
              "      <td>1</td>\n",
              "    </tr>\n",
              "  </tbody>\n",
              "</table>\n",
              "</div>"
            ],
            "text/plain": [
              "    0  1  2\n",
              "0   0  0  1\n",
              "1   2  1  1\n",
              "2   1  0  2\n",
              "3   2  0  3\n",
              "4   1  1  1\n",
              "5   0  1  2\n",
              "6   2  0  3\n",
              "7   0  1  1\n",
              "8   1  0  2\n",
              "9   0  1  2\n",
              "10  0  0  3\n",
              "11  1  1  3\n",
              "12  1  1  1\n",
              "13  0  0  3\n",
              "14  0  0  2\n",
              "15  1  0  1\n",
              "16  1  1  3\n",
              "17  1  1  3\n",
              "18  0  1  2\n",
              "19  1  0  1"
            ]
          },
          "metadata": {
            "tags": []
          },
          "execution_count": 24
        }
      ]
    },
    {
      "cell_type": "code",
      "metadata": {
        "id": "5O7ZI33mHaK6",
        "colab_type": "code",
        "colab": {}
      },
      "source": [
        "onehotencoder=OneHotEncoder()"
      ],
      "execution_count": null,
      "outputs": []
    },
    {
      "cell_type": "code",
      "metadata": {
        "id": "hGCgtsoFkFkK",
        "colab_type": "code",
        "colab": {}
      },
      "source": [
        "zzz=onehotencoder.fit_transform(zz).toarray().astype(int)"
      ],
      "execution_count": null,
      "outputs": []
    },
    {
      "cell_type": "code",
      "metadata": {
        "id": "8x9LigYukUi9",
        "colab_type": "code",
        "colab": {
          "base_uri": "https://localhost:8080/",
          "height": 353
        },
        "outputId": "a7d574c4-1791-431a-b738-a2b3135795d6"
      },
      "source": [
        "zzz"
      ],
      "execution_count": null,
      "outputs": [
        {
          "output_type": "execute_result",
          "data": {
            "text/plain": [
              "array([[1, 0, 0, 1, 0, 1, 0, 0],\n",
              "       [0, 0, 1, 0, 1, 1, 0, 0],\n",
              "       [0, 1, 0, 1, 0, 0, 1, 0],\n",
              "       [0, 0, 1, 1, 0, 0, 0, 1],\n",
              "       [0, 1, 0, 0, 1, 1, 0, 0],\n",
              "       [1, 0, 0, 0, 1, 0, 1, 0],\n",
              "       [0, 0, 1, 1, 0, 0, 0, 1],\n",
              "       [1, 0, 0, 0, 1, 1, 0, 0],\n",
              "       [0, 1, 0, 1, 0, 0, 1, 0],\n",
              "       [1, 0, 0, 0, 1, 0, 1, 0],\n",
              "       [1, 0, 0, 1, 0, 0, 0, 1],\n",
              "       [0, 1, 0, 0, 1, 0, 0, 1],\n",
              "       [0, 1, 0, 0, 1, 1, 0, 0],\n",
              "       [1, 0, 0, 1, 0, 0, 0, 1],\n",
              "       [1, 0, 0, 1, 0, 0, 1, 0],\n",
              "       [0, 1, 0, 1, 0, 1, 0, 0],\n",
              "       [0, 1, 0, 0, 1, 0, 0, 1],\n",
              "       [0, 1, 0, 0, 1, 0, 0, 1],\n",
              "       [1, 0, 0, 0, 1, 0, 1, 0],\n",
              "       [0, 1, 0, 1, 0, 1, 0, 0]])"
            ]
          },
          "metadata": {
            "tags": []
          },
          "execution_count": 27
        }
      ]
    },
    {
      "cell_type": "code",
      "metadata": {
        "id": "ZAxAPcghkVT7",
        "colab_type": "code",
        "colab": {}
      },
      "source": [
        "zzz=pd.DataFrame(zzz)"
      ],
      "execution_count": null,
      "outputs": []
    },
    {
      "cell_type": "code",
      "metadata": {
        "id": "xtZV4RA7klB5",
        "colab_type": "code",
        "colab": {
          "base_uri": "https://localhost:8080/",
          "height": 639
        },
        "outputId": "b32778bb-f01b-4e48-e015-fc7cc9ed2ec5"
      },
      "source": [
        "zzz"
      ],
      "execution_count": null,
      "outputs": [
        {
          "output_type": "execute_result",
          "data": {
            "text/html": [
              "<div>\n",
              "<style scoped>\n",
              "    .dataframe tbody tr th:only-of-type {\n",
              "        vertical-align: middle;\n",
              "    }\n",
              "\n",
              "    .dataframe tbody tr th {\n",
              "        vertical-align: top;\n",
              "    }\n",
              "\n",
              "    .dataframe thead th {\n",
              "        text-align: right;\n",
              "    }\n",
              "</style>\n",
              "<table border=\"1\" class=\"dataframe\">\n",
              "  <thead>\n",
              "    <tr style=\"text-align: right;\">\n",
              "      <th></th>\n",
              "      <th>0</th>\n",
              "      <th>1</th>\n",
              "      <th>2</th>\n",
              "      <th>3</th>\n",
              "      <th>4</th>\n",
              "      <th>5</th>\n",
              "      <th>6</th>\n",
              "      <th>7</th>\n",
              "    </tr>\n",
              "  </thead>\n",
              "  <tbody>\n",
              "    <tr>\n",
              "      <th>0</th>\n",
              "      <td>1</td>\n",
              "      <td>0</td>\n",
              "      <td>0</td>\n",
              "      <td>1</td>\n",
              "      <td>0</td>\n",
              "      <td>1</td>\n",
              "      <td>0</td>\n",
              "      <td>0</td>\n",
              "    </tr>\n",
              "    <tr>\n",
              "      <th>1</th>\n",
              "      <td>0</td>\n",
              "      <td>0</td>\n",
              "      <td>1</td>\n",
              "      <td>0</td>\n",
              "      <td>1</td>\n",
              "      <td>1</td>\n",
              "      <td>0</td>\n",
              "      <td>0</td>\n",
              "    </tr>\n",
              "    <tr>\n",
              "      <th>2</th>\n",
              "      <td>0</td>\n",
              "      <td>1</td>\n",
              "      <td>0</td>\n",
              "      <td>1</td>\n",
              "      <td>0</td>\n",
              "      <td>0</td>\n",
              "      <td>1</td>\n",
              "      <td>0</td>\n",
              "    </tr>\n",
              "    <tr>\n",
              "      <th>3</th>\n",
              "      <td>0</td>\n",
              "      <td>0</td>\n",
              "      <td>1</td>\n",
              "      <td>1</td>\n",
              "      <td>0</td>\n",
              "      <td>0</td>\n",
              "      <td>0</td>\n",
              "      <td>1</td>\n",
              "    </tr>\n",
              "    <tr>\n",
              "      <th>4</th>\n",
              "      <td>0</td>\n",
              "      <td>1</td>\n",
              "      <td>0</td>\n",
              "      <td>0</td>\n",
              "      <td>1</td>\n",
              "      <td>1</td>\n",
              "      <td>0</td>\n",
              "      <td>0</td>\n",
              "    </tr>\n",
              "    <tr>\n",
              "      <th>5</th>\n",
              "      <td>1</td>\n",
              "      <td>0</td>\n",
              "      <td>0</td>\n",
              "      <td>0</td>\n",
              "      <td>1</td>\n",
              "      <td>0</td>\n",
              "      <td>1</td>\n",
              "      <td>0</td>\n",
              "    </tr>\n",
              "    <tr>\n",
              "      <th>6</th>\n",
              "      <td>0</td>\n",
              "      <td>0</td>\n",
              "      <td>1</td>\n",
              "      <td>1</td>\n",
              "      <td>0</td>\n",
              "      <td>0</td>\n",
              "      <td>0</td>\n",
              "      <td>1</td>\n",
              "    </tr>\n",
              "    <tr>\n",
              "      <th>7</th>\n",
              "      <td>1</td>\n",
              "      <td>0</td>\n",
              "      <td>0</td>\n",
              "      <td>0</td>\n",
              "      <td>1</td>\n",
              "      <td>1</td>\n",
              "      <td>0</td>\n",
              "      <td>0</td>\n",
              "    </tr>\n",
              "    <tr>\n",
              "      <th>8</th>\n",
              "      <td>0</td>\n",
              "      <td>1</td>\n",
              "      <td>0</td>\n",
              "      <td>1</td>\n",
              "      <td>0</td>\n",
              "      <td>0</td>\n",
              "      <td>1</td>\n",
              "      <td>0</td>\n",
              "    </tr>\n",
              "    <tr>\n",
              "      <th>9</th>\n",
              "      <td>1</td>\n",
              "      <td>0</td>\n",
              "      <td>0</td>\n",
              "      <td>0</td>\n",
              "      <td>1</td>\n",
              "      <td>0</td>\n",
              "      <td>1</td>\n",
              "      <td>0</td>\n",
              "    </tr>\n",
              "    <tr>\n",
              "      <th>10</th>\n",
              "      <td>1</td>\n",
              "      <td>0</td>\n",
              "      <td>0</td>\n",
              "      <td>1</td>\n",
              "      <td>0</td>\n",
              "      <td>0</td>\n",
              "      <td>0</td>\n",
              "      <td>1</td>\n",
              "    </tr>\n",
              "    <tr>\n",
              "      <th>11</th>\n",
              "      <td>0</td>\n",
              "      <td>1</td>\n",
              "      <td>0</td>\n",
              "      <td>0</td>\n",
              "      <td>1</td>\n",
              "      <td>0</td>\n",
              "      <td>0</td>\n",
              "      <td>1</td>\n",
              "    </tr>\n",
              "    <tr>\n",
              "      <th>12</th>\n",
              "      <td>0</td>\n",
              "      <td>1</td>\n",
              "      <td>0</td>\n",
              "      <td>0</td>\n",
              "      <td>1</td>\n",
              "      <td>1</td>\n",
              "      <td>0</td>\n",
              "      <td>0</td>\n",
              "    </tr>\n",
              "    <tr>\n",
              "      <th>13</th>\n",
              "      <td>1</td>\n",
              "      <td>0</td>\n",
              "      <td>0</td>\n",
              "      <td>1</td>\n",
              "      <td>0</td>\n",
              "      <td>0</td>\n",
              "      <td>0</td>\n",
              "      <td>1</td>\n",
              "    </tr>\n",
              "    <tr>\n",
              "      <th>14</th>\n",
              "      <td>1</td>\n",
              "      <td>0</td>\n",
              "      <td>0</td>\n",
              "      <td>1</td>\n",
              "      <td>0</td>\n",
              "      <td>0</td>\n",
              "      <td>1</td>\n",
              "      <td>0</td>\n",
              "    </tr>\n",
              "    <tr>\n",
              "      <th>15</th>\n",
              "      <td>0</td>\n",
              "      <td>1</td>\n",
              "      <td>0</td>\n",
              "      <td>1</td>\n",
              "      <td>0</td>\n",
              "      <td>1</td>\n",
              "      <td>0</td>\n",
              "      <td>0</td>\n",
              "    </tr>\n",
              "    <tr>\n",
              "      <th>16</th>\n",
              "      <td>0</td>\n",
              "      <td>1</td>\n",
              "      <td>0</td>\n",
              "      <td>0</td>\n",
              "      <td>1</td>\n",
              "      <td>0</td>\n",
              "      <td>0</td>\n",
              "      <td>1</td>\n",
              "    </tr>\n",
              "    <tr>\n",
              "      <th>17</th>\n",
              "      <td>0</td>\n",
              "      <td>1</td>\n",
              "      <td>0</td>\n",
              "      <td>0</td>\n",
              "      <td>1</td>\n",
              "      <td>0</td>\n",
              "      <td>0</td>\n",
              "      <td>1</td>\n",
              "    </tr>\n",
              "    <tr>\n",
              "      <th>18</th>\n",
              "      <td>1</td>\n",
              "      <td>0</td>\n",
              "      <td>0</td>\n",
              "      <td>0</td>\n",
              "      <td>1</td>\n",
              "      <td>0</td>\n",
              "      <td>1</td>\n",
              "      <td>0</td>\n",
              "    </tr>\n",
              "    <tr>\n",
              "      <th>19</th>\n",
              "      <td>0</td>\n",
              "      <td>1</td>\n",
              "      <td>0</td>\n",
              "      <td>1</td>\n",
              "      <td>0</td>\n",
              "      <td>1</td>\n",
              "      <td>0</td>\n",
              "      <td>0</td>\n",
              "    </tr>\n",
              "  </tbody>\n",
              "</table>\n",
              "</div>"
            ],
            "text/plain": [
              "    0  1  2  3  4  5  6  7\n",
              "0   1  0  0  1  0  1  0  0\n",
              "1   0  0  1  0  1  1  0  0\n",
              "2   0  1  0  1  0  0  1  0\n",
              "3   0  0  1  1  0  0  0  1\n",
              "4   0  1  0  0  1  1  0  0\n",
              "5   1  0  0  0  1  0  1  0\n",
              "6   0  0  1  1  0  0  0  1\n",
              "7   1  0  0  0  1  1  0  0\n",
              "8   0  1  0  1  0  0  1  0\n",
              "9   1  0  0  0  1  0  1  0\n",
              "10  1  0  0  1  0  0  0  1\n",
              "11  0  1  0  0  1  0  0  1\n",
              "12  0  1  0  0  1  1  0  0\n",
              "13  1  0  0  1  0  0  0  1\n",
              "14  1  0  0  1  0  0  1  0\n",
              "15  0  1  0  1  0  1  0  0\n",
              "16  0  1  0  0  1  0  0  1\n",
              "17  0  1  0  0  1  0  0  1\n",
              "18  1  0  0  0  1  0  1  0\n",
              "19  0  1  0  1  0  1  0  0"
            ]
          },
          "metadata": {
            "tags": []
          },
          "execution_count": 29
        }
      ]
    },
    {
      "cell_type": "code",
      "metadata": {
        "id": "mDKo54q8klsn",
        "colab_type": "code",
        "colab": {}
      },
      "source": [
        "from sklearn import preprocessing"
      ],
      "execution_count": null,
      "outputs": []
    },
    {
      "cell_type": "code",
      "metadata": {
        "id": "Upr55WJUnp0e",
        "colab_type": "code",
        "colab": {}
      },
      "source": [
        "num=num.interpolate()"
      ],
      "execution_count": null,
      "outputs": []
    },
    {
      "cell_type": "code",
      "metadata": {
        "id": "KYWig0ORoG0B",
        "colab_type": "code",
        "colab": {}
      },
      "source": [
        "X=num.values"
      ],
      "execution_count": null,
      "outputs": []
    },
    {
      "cell_type": "code",
      "metadata": {
        "id": "qwNkYtUaogTP",
        "colab_type": "code",
        "colab": {}
      },
      "source": [
        "XX=preprocessing.MinMaxScaler()"
      ],
      "execution_count": null,
      "outputs": []
    },
    {
      "cell_type": "code",
      "metadata": {
        "id": "5BdkFGIDop0I",
        "colab_type": "code",
        "colab": {}
      },
      "source": [
        "XXX= XX.fit_transform(X)\n",
        "numm= pd.DataFrame(XXX)"
      ],
      "execution_count": null,
      "outputs": []
    },
    {
      "cell_type": "code",
      "metadata": {
        "id": "OlXFJVXPo-wl",
        "colab_type": "code",
        "colab": {
          "base_uri": "https://localhost:8080/",
          "height": 639
        },
        "outputId": "99597edf-9d96-4b5a-9e48-3d0b32ad5215"
      },
      "source": [
        "numm"
      ],
      "execution_count": null,
      "outputs": [
        {
          "output_type": "execute_result",
          "data": {
            "text/html": [
              "<div>\n",
              "<style scoped>\n",
              "    .dataframe tbody tr th:only-of-type {\n",
              "        vertical-align: middle;\n",
              "    }\n",
              "\n",
              "    .dataframe tbody tr th {\n",
              "        vertical-align: top;\n",
              "    }\n",
              "\n",
              "    .dataframe thead th {\n",
              "        text-align: right;\n",
              "    }\n",
              "</style>\n",
              "<table border=\"1\" class=\"dataframe\">\n",
              "  <thead>\n",
              "    <tr style=\"text-align: right;\">\n",
              "      <th></th>\n",
              "      <th>0</th>\n",
              "      <th>1</th>\n",
              "    </tr>\n",
              "  </thead>\n",
              "  <tbody>\n",
              "    <tr>\n",
              "      <th>0</th>\n",
              "      <td>0.812500</td>\n",
              "      <td>0.738095</td>\n",
              "    </tr>\n",
              "    <tr>\n",
              "      <th>1</th>\n",
              "      <td>0.281250</td>\n",
              "      <td>0.166667</td>\n",
              "    </tr>\n",
              "    <tr>\n",
              "      <th>2</th>\n",
              "      <td>0.375000</td>\n",
              "      <td>0.309524</td>\n",
              "    </tr>\n",
              "    <tr>\n",
              "      <th>3</th>\n",
              "      <td>0.625000</td>\n",
              "      <td>0.476190</td>\n",
              "    </tr>\n",
              "    <tr>\n",
              "      <th>4</th>\n",
              "      <td>0.687500</td>\n",
              "      <td>0.440476</td>\n",
              "    </tr>\n",
              "    <tr>\n",
              "      <th>5</th>\n",
              "      <td>0.531250</td>\n",
              "      <td>0.404762</td>\n",
              "    </tr>\n",
              "    <tr>\n",
              "      <th>6</th>\n",
              "      <td>0.734375</td>\n",
              "      <td>0.261905</td>\n",
              "    </tr>\n",
              "    <tr>\n",
              "      <th>7</th>\n",
              "      <td>0.937500</td>\n",
              "      <td>0.904762</td>\n",
              "    </tr>\n",
              "    <tr>\n",
              "      <th>8</th>\n",
              "      <td>1.000000</td>\n",
              "      <td>1.000000</td>\n",
              "    </tr>\n",
              "    <tr>\n",
              "      <th>9</th>\n",
              "      <td>0.593750</td>\n",
              "      <td>0.619048</td>\n",
              "    </tr>\n",
              "    <tr>\n",
              "      <th>10</th>\n",
              "      <td>0.000000</td>\n",
              "      <td>0.319048</td>\n",
              "    </tr>\n",
              "    <tr>\n",
              "      <th>11</th>\n",
              "      <td>0.125000</td>\n",
              "      <td>0.333333</td>\n",
              "    </tr>\n",
              "    <tr>\n",
              "      <th>12</th>\n",
              "      <td>0.218750</td>\n",
              "      <td>0.423810</td>\n",
              "    </tr>\n",
              "    <tr>\n",
              "      <th>13</th>\n",
              "      <td>0.312500</td>\n",
              "      <td>0.023810</td>\n",
              "    </tr>\n",
              "    <tr>\n",
              "      <th>14</th>\n",
              "      <td>0.187500</td>\n",
              "      <td>0.000000</td>\n",
              "    </tr>\n",
              "    <tr>\n",
              "      <th>15</th>\n",
              "      <td>0.531250</td>\n",
              "      <td>0.666667</td>\n",
              "    </tr>\n",
              "    <tr>\n",
              "      <th>16</th>\n",
              "      <td>0.437500</td>\n",
              "      <td>0.619048</td>\n",
              "    </tr>\n",
              "    <tr>\n",
              "      <th>17</th>\n",
              "      <td>0.625000</td>\n",
              "      <td>0.571429</td>\n",
              "    </tr>\n",
              "    <tr>\n",
              "      <th>18</th>\n",
              "      <td>0.843750</td>\n",
              "      <td>0.571429</td>\n",
              "    </tr>\n",
              "    <tr>\n",
              "      <th>19</th>\n",
              "      <td>0.218750</td>\n",
              "      <td>0.571429</td>\n",
              "    </tr>\n",
              "  </tbody>\n",
              "</table>\n",
              "</div>"
            ],
            "text/plain": [
              "           0         1\n",
              "0   0.812500  0.738095\n",
              "1   0.281250  0.166667\n",
              "2   0.375000  0.309524\n",
              "3   0.625000  0.476190\n",
              "4   0.687500  0.440476\n",
              "5   0.531250  0.404762\n",
              "6   0.734375  0.261905\n",
              "7   0.937500  0.904762\n",
              "8   1.000000  1.000000\n",
              "9   0.593750  0.619048\n",
              "10  0.000000  0.319048\n",
              "11  0.125000  0.333333\n",
              "12  0.218750  0.423810\n",
              "13  0.312500  0.023810\n",
              "14  0.187500  0.000000\n",
              "15  0.531250  0.666667\n",
              "16  0.437500  0.619048\n",
              "17  0.625000  0.571429\n",
              "18  0.843750  0.571429\n",
              "19  0.218750  0.571429"
            ]
          },
          "metadata": {
            "tags": []
          },
          "execution_count": 41
        }
      ]
    },
    {
      "cell_type": "code",
      "metadata": {
        "id": "xp4nV6P3pAl7",
        "colab_type": "code",
        "colab": {}
      },
      "source": [
        "from sklearn.preprocessing import StandardScaler"
      ],
      "execution_count": null,
      "outputs": []
    },
    {
      "cell_type": "code",
      "metadata": {
        "id": "EHrF_kCuavGr",
        "colab_type": "code",
        "colab": {}
      },
      "source": [
        "objStandardisation= StandardScaler()"
      ],
      "execution_count": null,
      "outputs": []
    },
    {
      "cell_type": "code",
      "metadata": {
        "id": "r-b4A9pDa9OD",
        "colab_type": "code",
        "colab": {}
      },
      "source": [
        "numS=objStandardisation.fit_transform(num.interpolate())"
      ],
      "execution_count": null,
      "outputs": []
    },
    {
      "cell_type": "code",
      "metadata": {
        "id": "snnLlge8bR6t",
        "colab_type": "code",
        "colab": {
          "base_uri": "https://localhost:8080/",
          "height": 353
        },
        "outputId": "8ce8f485-793d-4a1c-c7e7-4c45c02384f6"
      },
      "source": [
        "numS"
      ],
      "execution_count": null,
      "outputs": [
        {
          "output_type": "execute_result",
          "data": {
            "text/plain": [
              "array([[ 1.11280852,  1.05321985],\n",
              "       [-0.80291247, -1.20066123],\n",
              "       [-0.46484406, -0.63719096],\n",
              "       [ 0.4366717 ,  0.02019102],\n",
              "       [ 0.66205064, -0.12067655],\n",
              "       [ 0.09860329, -0.26154412],\n",
              "       [ 0.83108484, -0.82501439],\n",
              "       [ 1.56356639,  1.71060183],\n",
              "       [ 1.78894533,  2.08624867],\n",
              "       [ 0.32398223,  0.58366129],\n",
              "       [-1.8171177 , -0.59962628],\n",
              "       [-1.36635982, -0.54327925],\n",
              "       [-1.02829141, -0.18641475],\n",
              "       [-0.690223  , -1.7641315 ],\n",
              "       [-1.14098088, -1.85804321],\n",
              "       [ 0.09860329,  0.77148471],\n",
              "       [-0.23946512,  0.58366129],\n",
              "       [ 0.4366717 ,  0.39583786],\n",
              "       [ 1.22549799,  0.39583786],\n",
              "       [-1.02829141,  0.39583786]])"
            ]
          },
          "metadata": {
            "tags": []
          },
          "execution_count": 47
        }
      ]
    },
    {
      "cell_type": "code",
      "metadata": {
        "id": "uVh0tSaUbZpl",
        "colab_type": "code",
        "colab": {}
      },
      "source": [
        ""
      ],
      "execution_count": null,
      "outputs": []
    }
  ]
}